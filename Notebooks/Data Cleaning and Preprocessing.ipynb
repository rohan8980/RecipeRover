{
 "cells": [
  {
   "cell_type": "code",
   "execution_count": 557,
   "id": "6f53cf8a-8e8a-4b50-8d80-a7db9d9f19cd",
   "metadata": {},
   "outputs": [],
   "source": [
    "import pandas as pd\n",
    "import os\n",
    "import re"
   ]
  },
  {
   "cell_type": "markdown",
   "id": "fdc08265-248f-4b42-9efd-95404308a2bb",
   "metadata": {},
   "source": [
    "### Read data from file"
   ]
  },
  {
   "cell_type": "code",
   "execution_count": 558,
   "id": "5431dbd1-9bff-45e8-8b20-1e5d742c8d1b",
   "metadata": {},
   "outputs": [],
   "source": [
    "file_path = os.path.join(os.getcwd(), '..', 'Data', 'Recipes.csv')\n",
    "df = pd.read_csv(file_path)"
   ]
  },
  {
   "cell_type": "code",
   "execution_count": 559,
   "id": "352aa3f4-e10f-4c8b-bcc5-7d99b23cb19d",
   "metadata": {},
   "outputs": [
    {
     "data": {
      "text/html": [
       "<div>\n",
       "<style scoped>\n",
       "    .dataframe tbody tr th:only-of-type {\n",
       "        vertical-align: middle;\n",
       "    }\n",
       "\n",
       "    .dataframe tbody tr th {\n",
       "        vertical-align: top;\n",
       "    }\n",
       "\n",
       "    .dataframe thead th {\n",
       "        text-align: right;\n",
       "    }\n",
       "</style>\n",
       "<table border=\"1\" class=\"dataframe\">\n",
       "  <thead>\n",
       "    <tr style=\"text-align: right;\">\n",
       "      <th></th>\n",
       "      <th>Page No</th>\n",
       "      <th>Recipe Name</th>\n",
       "      <th>Image URL</th>\n",
       "      <th>Recipe URL</th>\n",
       "      <th>Recipe URL Title</th>\n",
       "      <th>Image URL Original</th>\n",
       "      <th>Cuisine</th>\n",
       "      <th>Course</th>\n",
       "      <th>Diet</th>\n",
       "      <th>Equipments</th>\n",
       "      <th>...</th>\n",
       "      <th>Total Ratings</th>\n",
       "      <th>Best Rating</th>\n",
       "      <th>Worst Rating</th>\n",
       "      <th>Prep Time</th>\n",
       "      <th>Cook Time</th>\n",
       "      <th>Total Time</th>\n",
       "      <th>Servings</th>\n",
       "      <th>Recipe Description</th>\n",
       "      <th>Ingredients</th>\n",
       "      <th>Instructions</th>\n",
       "    </tr>\n",
       "  </thead>\n",
       "  <tbody>\n",
       "    <tr>\n",
       "      <th>5259</th>\n",
       "      <td>220</td>\n",
       "      <td>Broken Wheat Upma Or Dalia Khichdi Recipe for ...</td>\n",
       "      <td>https://www.archanaskitchen.com/imgcache/image...</td>\n",
       "      <td>https://www.archanaskitchen.com/broken-wheat-u...</td>\n",
       "      <td>Broken Wheat Upma Or Dalia Khichdi Recipe for ...</td>\n",
       "      <td>https://www.archanaskitchen.com/images/archana...</td>\n",
       "      <td>Indian</td>\n",
       "      <td>Indian Breakfast</td>\n",
       "      <td>Vegetarian</td>\n",
       "      <td>Hard Anodized Pressure Cooker,Hard Anodised Ka...</td>\n",
       "      <td>...</td>\n",
       "      <td>2244.0</td>\n",
       "      <td>5.0</td>\n",
       "      <td>0.0</td>\n",
       "      <td>10 M</td>\n",
       "      <td>10 M</td>\n",
       "      <td>20 M</td>\n",
       "      <td>2</td>\n",
       "      <td>Broken Wheat Upma or Dalia Khichdi is a simple...</td>\n",
       "      <td>Broken Wheat (Dalia/ Godumai Rava) - 1/4 cup|W...</td>\n",
       "      <td>To begin making Dalia Khichdi or Broken Wheat ...</td>\n",
       "    </tr>\n",
       "    <tr>\n",
       "      <th>6745</th>\n",
       "      <td>285</td>\n",
       "      <td>Red Rice Dosa Recipe</td>\n",
       "      <td>https://www.archanaskitchen.com/imgcache/image...</td>\n",
       "      <td>https://www.archanaskitchen.com/red-rice-dosa-...</td>\n",
       "      <td>Red Rice Dosa Recipe</td>\n",
       "      <td>https://www.archanaskitchen.com/images/archana...</td>\n",
       "      <td>South Indian Recipes</td>\n",
       "      <td>South Indian Breakfast</td>\n",
       "      <td>Vegetarian</td>\n",
       "      <td>Cast Iron Tawa/ Flat Skillet</td>\n",
       "      <td>...</td>\n",
       "      <td>10301.0</td>\n",
       "      <td>5.0</td>\n",
       "      <td>0.0</td>\n",
       "      <td>10 M</td>\n",
       "      <td>120 M</td>\n",
       "      <td>130 M</td>\n",
       "      <td>3</td>\n",
       "      <td>Dosas are a very popular South Indian breakfas...</td>\n",
       "      <td>Red matta rice - 1 cup|White Urad Dal (Split) ...</td>\n",
       "      <td>Soak the red rice in water such that the all t...</td>\n",
       "    </tr>\n",
       "  </tbody>\n",
       "</table>\n",
       "<p>2 rows × 21 columns</p>\n",
       "</div>"
      ],
      "text/plain": [
       "      Page No                                        Recipe Name  \\\n",
       "5259      220  Broken Wheat Upma Or Dalia Khichdi Recipe for ...   \n",
       "6745      285                               Red Rice Dosa Recipe   \n",
       "\n",
       "                                              Image URL  \\\n",
       "5259  https://www.archanaskitchen.com/imgcache/image...   \n",
       "6745  https://www.archanaskitchen.com/imgcache/image...   \n",
       "\n",
       "                                             Recipe URL  \\\n",
       "5259  https://www.archanaskitchen.com/broken-wheat-u...   \n",
       "6745  https://www.archanaskitchen.com/red-rice-dosa-...   \n",
       "\n",
       "                                       Recipe URL Title  \\\n",
       "5259  Broken Wheat Upma Or Dalia Khichdi Recipe for ...   \n",
       "6745                               Red Rice Dosa Recipe   \n",
       "\n",
       "                                     Image URL Original               Cuisine  \\\n",
       "5259  https://www.archanaskitchen.com/images/archana...                Indian   \n",
       "6745  https://www.archanaskitchen.com/images/archana...  South Indian Recipes   \n",
       "\n",
       "                      Course        Diet  \\\n",
       "5259        Indian Breakfast  Vegetarian   \n",
       "6745  South Indian Breakfast  Vegetarian   \n",
       "\n",
       "                                             Equipments  ...  Total Ratings  \\\n",
       "5259  Hard Anodized Pressure Cooker,Hard Anodised Ka...  ...         2244.0   \n",
       "6745                       Cast Iron Tawa/ Flat Skillet  ...        10301.0   \n",
       "\n",
       "      Best Rating  Worst Rating  Prep Time Cook Time Total Time Servings  \\\n",
       "5259          5.0           0.0       10 M      10 M       20 M        2   \n",
       "6745          5.0           0.0       10 M     120 M      130 M        3   \n",
       "\n",
       "                                     Recipe Description  \\\n",
       "5259  Broken Wheat Upma or Dalia Khichdi is a simple...   \n",
       "6745  Dosas are a very popular South Indian breakfas...   \n",
       "\n",
       "                                            Ingredients  \\\n",
       "5259  Broken Wheat (Dalia/ Godumai Rava) - 1/4 cup|W...   \n",
       "6745  Red matta rice - 1 cup|White Urad Dal (Split) ...   \n",
       "\n",
       "                                           Instructions  \n",
       "5259  To begin making Dalia Khichdi or Broken Wheat ...  \n",
       "6745  Soak the red rice in water such that the all t...  \n",
       "\n",
       "[2 rows x 21 columns]"
      ]
     },
     "execution_count": 559,
     "metadata": {},
     "output_type": "execute_result"
    }
   ],
   "source": [
    "df.sample(2)"
   ]
  },
  {
   "cell_type": "markdown",
   "id": "e04b2c5f-30b1-41ad-93d2-ed83f4263e31",
   "metadata": {},
   "source": [
    "### Drop columns"
   ]
  },
  {
   "cell_type": "code",
   "execution_count": 560,
   "id": "6422fe9c-3c69-44f4-91dc-50891008605b",
   "metadata": {},
   "outputs": [],
   "source": [
    "drop_columns = ['Image URL Original', 'Recipe Description', 'Instructions'] #'Recipe URL'\n",
    "df.drop(drop_columns, axis=1, inplace=True)"
   ]
  },
  {
   "cell_type": "code",
   "execution_count": 561,
   "id": "e945b200-1bae-4741-afb3-26d83080beb1",
   "metadata": {},
   "outputs": [
    {
     "name": "stdout",
     "output_type": "stream",
     "text": [
      "<class 'pandas.core.frame.DataFrame'>\n",
      "RangeIndex: 7996 entries, 0 to 7995\n",
      "Data columns (total 18 columns):\n",
      " #   Column            Non-Null Count  Dtype  \n",
      "---  ------            --------------  -----  \n",
      " 0   Page No           7996 non-null   int64  \n",
      " 1   Recipe Name       7996 non-null   object \n",
      " 2   Image URL         7996 non-null   object \n",
      " 3   Recipe URL        7996 non-null   object \n",
      " 4   Recipe URL Title  7993 non-null   object \n",
      " 5   Cuisine           7925 non-null   object \n",
      " 6   Course            7835 non-null   object \n",
      " 7   Diet              7842 non-null   object \n",
      " 8   Equipments        7805 non-null   object \n",
      " 9   Average Rating    7993 non-null   float64\n",
      " 10  Total Ratings     7993 non-null   float64\n",
      " 11  Best Rating       7993 non-null   float64\n",
      " 12  Worst Rating      7993 non-null   float64\n",
      " 13  Prep Time         7964 non-null   object \n",
      " 14  Cook Time         7964 non-null   object \n",
      " 15  Total Time        7964 non-null   object \n",
      " 16  Servings          7941 non-null   object \n",
      " 17  Ingredients       7986 non-null   object \n",
      "dtypes: float64(4), int64(1), object(13)\n",
      "memory usage: 1.1+ MB\n"
     ]
    }
   ],
   "source": [
    "df.info()"
   ]
  },
  {
   "cell_type": "markdown",
   "id": "68d38057-05b1-403f-a9d3-7bbe6a4e8fc1",
   "metadata": {},
   "source": [
    "### Missing Values drop or replace"
   ]
  },
  {
   "cell_type": "code",
   "execution_count": 562,
   "id": "48dfb7ee-6ba9-49dd-aa21-30c804117174",
   "metadata": {},
   "outputs": [
    {
     "data": {
      "text/plain": [
       "Page No               0\n",
       "Recipe Name           0\n",
       "Image URL             0\n",
       "Recipe URL            0\n",
       "Recipe URL Title      3\n",
       "Cuisine              71\n",
       "Course              161\n",
       "Diet                154\n",
       "Equipments          191\n",
       "Average Rating        3\n",
       "Total Ratings         3\n",
       "Best Rating           3\n",
       "Worst Rating          3\n",
       "Prep Time            32\n",
       "Cook Time            32\n",
       "Total Time           32\n",
       "Servings             55\n",
       "Ingredients          10\n",
       "dtype: int64"
      ]
     },
     "execution_count": 562,
     "metadata": {},
     "output_type": "execute_result"
    }
   ],
   "source": [
    "df.isna().sum()"
   ]
  },
  {
   "cell_type": "markdown",
   "id": "7681a66e-bc3d-4484-a672-0ebfbaf49726",
   "metadata": {},
   "source": [
    "#### Remove recipes without title (Failed to fetch details due to page issue) "
   ]
  },
  {
   "cell_type": "code",
   "execution_count": 563,
   "id": "885e4836-96b9-45d7-92f3-641e205e3f8b",
   "metadata": {},
   "outputs": [
    {
     "data": {
      "text/html": [
       "<div>\n",
       "<style scoped>\n",
       "    .dataframe tbody tr th:only-of-type {\n",
       "        vertical-align: middle;\n",
       "    }\n",
       "\n",
       "    .dataframe tbody tr th {\n",
       "        vertical-align: top;\n",
       "    }\n",
       "\n",
       "    .dataframe thead th {\n",
       "        text-align: right;\n",
       "    }\n",
       "</style>\n",
       "<table border=\"1\" class=\"dataframe\">\n",
       "  <thead>\n",
       "    <tr style=\"text-align: right;\">\n",
       "      <th></th>\n",
       "      <th>Page No</th>\n",
       "      <th>Recipe Name</th>\n",
       "      <th>Image URL</th>\n",
       "      <th>Recipe URL</th>\n",
       "      <th>Recipe URL Title</th>\n",
       "      <th>Cuisine</th>\n",
       "      <th>Course</th>\n",
       "      <th>Diet</th>\n",
       "      <th>Equipments</th>\n",
       "      <th>Average Rating</th>\n",
       "      <th>Total Ratings</th>\n",
       "      <th>Best Rating</th>\n",
       "      <th>Worst Rating</th>\n",
       "      <th>Prep Time</th>\n",
       "      <th>Cook Time</th>\n",
       "      <th>Total Time</th>\n",
       "      <th>Servings</th>\n",
       "      <th>Ingredients</th>\n",
       "    </tr>\n",
       "  </thead>\n",
       "  <tbody>\n",
       "    <tr>\n",
       "      <th>2453</th>\n",
       "      <td>103</td>\n",
       "      <td>Open Toast Macaroni Recipe</td>\n",
       "      <td>https://www.archanaskitchen.com/imgcache/image...</td>\n",
       "      <td>https://www.archanaskitchen.com/open-toast-mac...</td>\n",
       "      <td>NaN</td>\n",
       "      <td>NaN</td>\n",
       "      <td>NaN</td>\n",
       "      <td>NaN</td>\n",
       "      <td>NaN</td>\n",
       "      <td>NaN</td>\n",
       "      <td>NaN</td>\n",
       "      <td>NaN</td>\n",
       "      <td>NaN</td>\n",
       "      <td>NaN</td>\n",
       "      <td>NaN</td>\n",
       "      <td>NaN</td>\n",
       "      <td>NaN</td>\n",
       "      <td>NaN</td>\n",
       "    </tr>\n",
       "    <tr>\n",
       "      <th>4093</th>\n",
       "      <td>171</td>\n",
       "      <td>Carrot, Capsicum, Mushroom &amp; Sweet Corn Tawa S...</td>\n",
       "      <td>https://www.archanaskitchen.com/imgcache/image...</td>\n",
       "      <td>https://www.archanaskitchen.com/carrot-capsicu...</td>\n",
       "      <td>NaN</td>\n",
       "      <td>NaN</td>\n",
       "      <td>NaN</td>\n",
       "      <td>NaN</td>\n",
       "      <td>NaN</td>\n",
       "      <td>NaN</td>\n",
       "      <td>NaN</td>\n",
       "      <td>NaN</td>\n",
       "      <td>NaN</td>\n",
       "      <td>NaN</td>\n",
       "      <td>NaN</td>\n",
       "      <td>NaN</td>\n",
       "      <td>NaN</td>\n",
       "      <td>NaN</td>\n",
       "    </tr>\n",
       "    <tr>\n",
       "      <th>6407</th>\n",
       "      <td>267</td>\n",
       "      <td>Eggless Baked Chocolate Chip Coins Recipe</td>\n",
       "      <td>https://www.archanaskitchen.com/imgcache/image...</td>\n",
       "      <td>https://www.archanaskitchen.com/eggless-baked-...</td>\n",
       "      <td>NaN</td>\n",
       "      <td>NaN</td>\n",
       "      <td>NaN</td>\n",
       "      <td>NaN</td>\n",
       "      <td>NaN</td>\n",
       "      <td>NaN</td>\n",
       "      <td>NaN</td>\n",
       "      <td>NaN</td>\n",
       "      <td>NaN</td>\n",
       "      <td>NaN</td>\n",
       "      <td>NaN</td>\n",
       "      <td>NaN</td>\n",
       "      <td>NaN</td>\n",
       "      <td>NaN</td>\n",
       "    </tr>\n",
       "  </tbody>\n",
       "</table>\n",
       "</div>"
      ],
      "text/plain": [
       "      Page No                                        Recipe Name  \\\n",
       "2453      103                         Open Toast Macaroni Recipe   \n",
       "4093      171  Carrot, Capsicum, Mushroom & Sweet Corn Tawa S...   \n",
       "6407      267          Eggless Baked Chocolate Chip Coins Recipe   \n",
       "\n",
       "                                              Image URL  \\\n",
       "2453  https://www.archanaskitchen.com/imgcache/image...   \n",
       "4093  https://www.archanaskitchen.com/imgcache/image...   \n",
       "6407  https://www.archanaskitchen.com/imgcache/image...   \n",
       "\n",
       "                                             Recipe URL Recipe URL Title  \\\n",
       "2453  https://www.archanaskitchen.com/open-toast-mac...              NaN   \n",
       "4093  https://www.archanaskitchen.com/carrot-capsicu...              NaN   \n",
       "6407  https://www.archanaskitchen.com/eggless-baked-...              NaN   \n",
       "\n",
       "     Cuisine Course Diet Equipments  Average Rating  Total Ratings  \\\n",
       "2453     NaN    NaN  NaN        NaN             NaN            NaN   \n",
       "4093     NaN    NaN  NaN        NaN             NaN            NaN   \n",
       "6407     NaN    NaN  NaN        NaN             NaN            NaN   \n",
       "\n",
       "      Best Rating  Worst Rating Prep Time Cook Time Total Time Servings  \\\n",
       "2453          NaN           NaN       NaN       NaN        NaN      NaN   \n",
       "4093          NaN           NaN       NaN       NaN        NaN      NaN   \n",
       "6407          NaN           NaN       NaN       NaN        NaN      NaN   \n",
       "\n",
       "     Ingredients  \n",
       "2453         NaN  \n",
       "4093         NaN  \n",
       "6407         NaN  "
      ]
     },
     "execution_count": 563,
     "metadata": {},
     "output_type": "execute_result"
    }
   ],
   "source": [
    "df[df['Recipe URL Title'].isna()]"
   ]
  },
  {
   "cell_type": "code",
   "execution_count": 564,
   "id": "394a50cc-62fc-4e28-8651-577aecfd799a",
   "metadata": {},
   "outputs": [],
   "source": [
    "df.dropna(subset=['Recipe URL Title'], inplace=True)"
   ]
  },
  {
   "cell_type": "markdown",
   "id": "69c5e41d-4632-405f-8580-203e98a127db",
   "metadata": {},
   "source": [
    "#### Filling recipies without Prep Time, Cook Time and Total Time"
   ]
  },
  {
   "cell_type": "code",
   "execution_count": 565,
   "id": "60e7668e-fbdf-4b2c-a028-2ec831409d16",
   "metadata": {},
   "outputs": [
    {
     "data": {
      "text/html": [
       "<div>\n",
       "<style scoped>\n",
       "    .dataframe tbody tr th:only-of-type {\n",
       "        vertical-align: middle;\n",
       "    }\n",
       "\n",
       "    .dataframe tbody tr th {\n",
       "        vertical-align: top;\n",
       "    }\n",
       "\n",
       "    .dataframe thead th {\n",
       "        text-align: right;\n",
       "    }\n",
       "</style>\n",
       "<table border=\"1\" class=\"dataframe\">\n",
       "  <thead>\n",
       "    <tr style=\"text-align: right;\">\n",
       "      <th></th>\n",
       "      <th>Page No</th>\n",
       "      <th>Recipe Name</th>\n",
       "      <th>Image URL</th>\n",
       "      <th>Recipe URL</th>\n",
       "      <th>Recipe URL Title</th>\n",
       "      <th>Cuisine</th>\n",
       "      <th>Course</th>\n",
       "      <th>Diet</th>\n",
       "      <th>Equipments</th>\n",
       "      <th>Average Rating</th>\n",
       "      <th>Total Ratings</th>\n",
       "      <th>Best Rating</th>\n",
       "      <th>Worst Rating</th>\n",
       "      <th>Prep Time</th>\n",
       "      <th>Cook Time</th>\n",
       "      <th>Total Time</th>\n",
       "      <th>Servings</th>\n",
       "      <th>Ingredients</th>\n",
       "    </tr>\n",
       "  </thead>\n",
       "  <tbody>\n",
       "    <tr>\n",
       "      <th>5316</th>\n",
       "      <td>222</td>\n",
       "      <td>Besan Oats Ladoo Recipe</td>\n",
       "      <td>https://www.archanaskitchen.com/imgcache/image...</td>\n",
       "      <td>https://www.archanaskitchen.com/besan-oats-lad...</td>\n",
       "      <td>Besan Oats Ladoo Recipe</td>\n",
       "      <td>Indian</td>\n",
       "      <td>Dessert</td>\n",
       "      <td>Vegetarian</td>\n",
       "      <td>Preethi Blue Leaf Mixer Grinder,Hard Anodised ...</td>\n",
       "      <td>4.905300</td>\n",
       "      <td>1415.0</td>\n",
       "      <td>5.0</td>\n",
       "      <td>0.0</td>\n",
       "      <td>NaN</td>\n",
       "      <td>NaN</td>\n",
       "      <td>NaN</td>\n",
       "      <td>NaN</td>\n",
       "      <td>Gram flour (besan) - 1 cup|Instant Oats (Oatme...</td>\n",
       "    </tr>\n",
       "    <tr>\n",
       "      <th>6809</th>\n",
       "      <td>287</td>\n",
       "      <td>सब्जी वाली रवा इडली रेसिपी - Veggie Rava Idli ...</td>\n",
       "      <td>https://www.archanaskitchen.com/imgcache/image...</td>\n",
       "      <td>https://www.archanaskitchen.com/veggie-rava-id...</td>\n",
       "      <td>सब्जी वाली रवा इडली रेसिपी - Veggie Rava Idli ...</td>\n",
       "      <td>South Indian Recipes</td>\n",
       "      <td>South Indian Breakfast</td>\n",
       "      <td>Vegetarian</td>\n",
       "      <td>Glass Mixing Bowl,Tadka Pan (Seasoning Pan),Dh...</td>\n",
       "      <td>4.933481</td>\n",
       "      <td>1804.0</td>\n",
       "      <td>5.0</td>\n",
       "      <td>0.0</td>\n",
       "      <td>NaN</td>\n",
       "      <td>NaN</td>\n",
       "      <td>NaN</td>\n",
       "      <td>NaN</td>\n",
       "      <td>सूजी - 1-1/2 कप|दही - 1 कप|अदरक - 1 - कसा हुआ|...</td>\n",
       "    </tr>\n",
       "  </tbody>\n",
       "</table>\n",
       "</div>"
      ],
      "text/plain": [
       "      Page No                                        Recipe Name  \\\n",
       "5316      222                            Besan Oats Ladoo Recipe   \n",
       "6809      287  सब्जी वाली रवा इडली रेसिपी - Veggie Rava Idli ...   \n",
       "\n",
       "                                              Image URL  \\\n",
       "5316  https://www.archanaskitchen.com/imgcache/image...   \n",
       "6809  https://www.archanaskitchen.com/imgcache/image...   \n",
       "\n",
       "                                             Recipe URL  \\\n",
       "5316  https://www.archanaskitchen.com/besan-oats-lad...   \n",
       "6809  https://www.archanaskitchen.com/veggie-rava-id...   \n",
       "\n",
       "                                       Recipe URL Title               Cuisine  \\\n",
       "5316                            Besan Oats Ladoo Recipe                Indian   \n",
       "6809  सब्जी वाली रवा इडली रेसिपी - Veggie Rava Idli ...  South Indian Recipes   \n",
       "\n",
       "                      Course        Diet  \\\n",
       "5316                 Dessert  Vegetarian   \n",
       "6809  South Indian Breakfast  Vegetarian   \n",
       "\n",
       "                                             Equipments  Average Rating  \\\n",
       "5316  Preethi Blue Leaf Mixer Grinder,Hard Anodised ...        4.905300   \n",
       "6809  Glass Mixing Bowl,Tadka Pan (Seasoning Pan),Dh...        4.933481   \n",
       "\n",
       "      Total Ratings  Best Rating  Worst Rating Prep Time Cook Time Total Time  \\\n",
       "5316         1415.0          5.0           0.0       NaN       NaN        NaN   \n",
       "6809         1804.0          5.0           0.0       NaN       NaN        NaN   \n",
       "\n",
       "     Servings                                        Ingredients  \n",
       "5316      NaN  Gram flour (besan) - 1 cup|Instant Oats (Oatme...  \n",
       "6809      NaN  सूजी - 1-1/2 कप|दही - 1 कप|अदरक - 1 - कसा हुआ|...  "
      ]
     },
     "execution_count": 565,
     "metadata": {},
     "output_type": "execute_result"
    }
   ],
   "source": [
    "df[df['Prep Time'].isna()].sample(2)"
   ]
  },
  {
   "cell_type": "markdown",
   "id": "ec239934-5779-4592-8af0-35dcebe219a1",
   "metadata": {},
   "source": [
    "#### Filling NAs in `Prep Time` with 10 M - Maximum counts"
   ]
  },
  {
   "cell_type": "code",
   "execution_count": 566,
   "id": "5fa7c2e4-4882-4787-bc80-151c13830041",
   "metadata": {},
   "outputs": [
    {
     "data": {
      "text/plain": [
       "Prep Time\n",
       "10 M    0.390633\n",
       "15 M    0.183325\n",
       "20 M    0.171396\n",
       "5 M     0.062531\n",
       "30 M    0.059518\n",
       "Name: proportion, dtype: float64"
      ]
     },
     "execution_count": 566,
     "metadata": {},
     "output_type": "execute_result"
    }
   ],
   "source": [
    "df['Prep Time'].value_counts(normalize = True)[:5]"
   ]
  },
  {
   "cell_type": "code",
   "execution_count": 567,
   "id": "7caef636-83f1-42d3-a24b-f499e725c7c5",
   "metadata": {},
   "outputs": [],
   "source": [
    "df['Prep Time'].fillna('10 M', inplace=True)"
   ]
  },
  {
   "cell_type": "markdown",
   "id": "e847c4e2-14de-45ac-be4b-126105629643",
   "metadata": {},
   "source": [
    "#### Filling NAs in `Cook Time` with 30 M - Maximum counts"
   ]
  },
  {
   "cell_type": "code",
   "execution_count": 568,
   "id": "d58bc2f7-14ac-44f1-b934-8e8d995e9047",
   "metadata": {},
   "outputs": [
    {
     "data": {
      "text/plain": [
       "Cook Time\n",
       "30 M    0.244224\n",
       "20 M    0.173656\n",
       "15 M    0.102587\n",
       "40 M    0.082873\n",
       "45 M    0.078729\n",
       "Name: proportion, dtype: float64"
      ]
     },
     "execution_count": 568,
     "metadata": {},
     "output_type": "execute_result"
    }
   ],
   "source": [
    "df['Cook Time'].value_counts(normalize = True)[:5]"
   ]
  },
  {
   "cell_type": "code",
   "execution_count": 569,
   "id": "1e56f2e6-81c8-4077-a568-906e77074ad8",
   "metadata": {},
   "outputs": [],
   "source": [
    "df['Cook Time'].fillna('30 M', inplace=True)"
   ]
  },
  {
   "cell_type": "markdown",
   "id": "32fd8b0b-50e5-4e34-91c9-bcadb1d38fcc",
   "metadata": {},
   "source": [
    "#### Filling NAs in `Total Time` with 40 M - Maximum counts"
   ]
  },
  {
   "cell_type": "code",
   "execution_count": 570,
   "id": "c7a6a9d5-464f-4a28-a17a-0176db162f53",
   "metadata": {},
   "outputs": [
    {
     "data": {
      "text/plain": [
       "Total Time\n",
       "40 M    0.142516\n",
       "30 M    0.120668\n",
       "50 M    0.098694\n",
       "35 M    0.079357\n",
       "45 M    0.077223\n",
       "Name: proportion, dtype: float64"
      ]
     },
     "execution_count": 570,
     "metadata": {},
     "output_type": "execute_result"
    }
   ],
   "source": [
    "df['Total Time'].value_counts(normalize = True)[:5]"
   ]
  },
  {
   "cell_type": "code",
   "execution_count": 571,
   "id": "6f2c4286-1265-471a-944b-bc137fc5ea13",
   "metadata": {},
   "outputs": [],
   "source": [
    "df['Total Time'].fillna('40 M', inplace=True)"
   ]
  },
  {
   "cell_type": "markdown",
   "id": "04e5e777-18cf-41f2-bdf9-1753841eba58",
   "metadata": {},
   "source": [
    "#### Filling NAs in `Servings` with 4 - Maximum counts"
   ]
  },
  {
   "cell_type": "code",
   "execution_count": 572,
   "id": "724c8375-55ae-40c9-aaf2-236183f9162e",
   "metadata": {},
   "outputs": [
    {
     "data": {
      "text/plain": [
       "Servings\n",
       "4    0.614406\n",
       "2    0.128951\n",
       "3    0.057549\n",
       "6    0.054779\n",
       "5    0.019771\n",
       "Name: proportion, dtype: float64"
      ]
     },
     "execution_count": 572,
     "metadata": {},
     "output_type": "execute_result"
    }
   ],
   "source": [
    "df['Servings'].value_counts(normalize = True)[:5]"
   ]
  },
  {
   "cell_type": "code",
   "execution_count": 573,
   "id": "31def336-6878-42de-b4a1-858109650527",
   "metadata": {},
   "outputs": [],
   "source": [
    "df['Servings'].fillna(4, inplace=True)"
   ]
  },
  {
   "cell_type": "markdown",
   "id": "0a77ce8c-c213-4cbf-a494-c718dbe9c48d",
   "metadata": {},
   "source": [
    "#### Filling NAs in `Course` with side dish - Not maximum but side dish makes sense based on the Recipe Name"
   ]
  },
  {
   "cell_type": "code",
   "execution_count": 574,
   "id": "a7d57422-8f34-4284-9ff6-9d67a2bbfbb6",
   "metadata": {},
   "outputs": [
    {
     "data": {
      "text/plain": [
       "Course\n",
       "Lunch        0.244288\n",
       "Side Dish    0.145118\n",
       "Snack        0.134014\n",
       "Dinner       0.111678\n",
       "Dessert      0.100830\n",
       "Name: proportion, dtype: float64"
      ]
     },
     "execution_count": 574,
     "metadata": {},
     "output_type": "execute_result"
    }
   ],
   "source": [
    "df['Course'].value_counts(normalize = True)[:5]"
   ]
  },
  {
   "cell_type": "code",
   "execution_count": 575,
   "id": "78469ad3-4053-433b-8a51-3cd99829c594",
   "metadata": {},
   "outputs": [
    {
     "data": {
      "text/plain": [
       "array(['How To Make Homemade Raisins', 'Bengali Bhaja Masala Recipe',\n",
       "       'Ragi Or Finger Millet Powder/ Malt Recipe for Babies 6 Months & Above',\n",
       "       'अदरक लहसुन का पेस्ट रेसिपी - Homemade Ginger Garlic Paste Recipe',\n",
       "       'Ambul Polos Curry - Sri Lankan Jack Fruit Curry Recipe With Pol Sambol',\n",
       "       'Bavarian Mushroom Sauce Recipe', 'Goan Recheado Masala Recipe',\n",
       "       'Simple Lemon Tea Recipe', 'Pomegranate Frozen Margarita Recipe',\n",
       "       'Chinese 5 spice powder Recipe'], dtype=object)"
      ]
     },
     "execution_count": 575,
     "metadata": {},
     "output_type": "execute_result"
    }
   ],
   "source": [
    "df.loc[df['Course'].isna(), 'Recipe Name'].sample(10).unique()"
   ]
  },
  {
   "cell_type": "code",
   "execution_count": 576,
   "id": "e4009166-daff-4f95-8b19-deb96946a896",
   "metadata": {},
   "outputs": [],
   "source": [
    "df['Course'].fillna('Side Dish', inplace=True)"
   ]
  },
  {
   "cell_type": "markdown",
   "id": "d6552483-4ad8-4f92-97b4-0ee08d96af5f",
   "metadata": {},
   "source": [
    "#### Filling NAs in `Diet` with Vegetarian - Maximum counts"
   ]
  },
  {
   "cell_type": "code",
   "execution_count": 577,
   "id": "5bd88efa-67f1-41b0-baee-36febd41eaee",
   "metadata": {},
   "outputs": [
    {
     "data": {
      "text/plain": [
       "Diet\n",
       "Vegetarian                 0.697399\n",
       "High Protein Vegetarian    0.101887\n",
       "Non Vegeterian             0.056746\n",
       "Eggetarian                 0.049222\n",
       "Diabetic Friendly          0.036853\n",
       "Name: proportion, dtype: float64"
      ]
     },
     "execution_count": 577,
     "metadata": {},
     "output_type": "execute_result"
    }
   ],
   "source": [
    "df['Diet'].value_counts(normalize = True)[:5]"
   ]
  },
  {
   "cell_type": "code",
   "execution_count": 578,
   "id": "67029a69-f605-4a93-bc6b-b8608212d7b7",
   "metadata": {},
   "outputs": [],
   "source": [
    "df['Diet'].fillna('Vegetarian', inplace=True)"
   ]
  },
  {
   "cell_type": "markdown",
   "id": "4f8c86a9-d545-4903-bb4b-2084e6cb347a",
   "metadata": {},
   "source": [
    "#### Filling NAs in `Cuisine` manually with help of ChatGPT"
   ]
  },
  {
   "cell_type": "code",
   "execution_count": 579,
   "id": "06f6ec8a-ea35-49db-b4fb-1e5cc2a1ba10",
   "metadata": {},
   "outputs": [
    {
     "data": {
      "text/plain": [
       "Cuisine\n",
       "Indian                   0.166562\n",
       "Continental              0.163533\n",
       "North Indian Recipes     0.131987\n",
       "South Indian Recipes     0.097539\n",
       "Italian Recipes          0.034322\n",
       "Bengali Recipes          0.024606\n",
       "Maharashtrian Recipes    0.024101\n",
       "Kerala Recipes           0.023722\n",
       "Tamil Nadu               0.023344\n",
       "Karnataka                0.020820\n",
       "Name: proportion, dtype: float64"
      ]
     },
     "execution_count": 579,
     "metadata": {},
     "output_type": "execute_result"
    }
   ],
   "source": [
    "df.loc[df['Cuisine'].isna(), 'Recipe Name'].unique()  #Recipe Names\n",
    "df['Cuisine'].unique() # Cuisine Names\n",
    "df['Cuisine'].value_counts(normalize = True)[:10]"
   ]
  },
  {
   "cell_type": "code",
   "execution_count": 580,
   "id": "94116962-a33d-4650-aa3e-dabe0b2de241",
   "metadata": {},
   "outputs": [],
   "source": [
    "recipe_cuisine_mapping = {\n",
    "    'Cheesy Corn And Onion Toasts Recipe': 'Continental', 'Irish Cream Bundt Cake Recipe': 'Continental', 'How to Blanch Tomatoes Recipe': 'Continental', 'How To Make All Purpose Pie Crust Recipe': 'Continental', 'How to blanch Almonds': 'Continental', 'Homemade Dijon Mustard Sauce Recipe': 'Continental', 'Homemade Pumpkin Puree Recipe': 'Continental', 'Sundried Tomato Pesto Recipe': 'Continental', 'Sweet Potato Balls Recipe Stuffed With Cheesy Garlic Mayo Recipe': 'Continental', 'Pineapple Jalapeño Pops Recipe `': 'Continental', 'Homemade Vegetable Stock Recipe': 'Continental', 'Homemade Apple Sauce Recipe': 'Continental', 'Dark Chocolate Cherry Cake Recipe': 'Continental', 'How To Make Homemade Caramelised Onions': 'Continental', 'Apple, Kiwi, Pineapple Juice Recipe': 'Continental', 'Carrot Ginger Juice Recipe': 'Continental', 'How To Make Homemade Raisins': 'Continental', 'Guava And Papaya Mimosa Drink Recipe': 'Continental', 'Sweet Potato & Rosemary Crisps/ Chips': 'Continental', 'Whole Wheat Crepe Recipe With Herbed Vegetables': 'Continental', 'Fig Honey & Paprika Preserve Recipe': 'Continental', 'Spicy Baked Beans With Potato Cakes Recipe': 'Continental', 'Fresh Strawberry Jam Recipe (Strawberry Preserve)': 'Continental', 'How to make Homemade Tomato Puree Recipe (Sauce)': 'Continental', 'Red Wine Sangria Cocktail Recipe': 'Continental', 'Homemade Ice-Cream Cake Recipe': 'Continental',\n",
    "    'High Protein Spinach & Soy Bites Recipe': 'Indian', 'Dahi Bhalla Papdi Chaat Recipe': 'Indian', 'How to Cook Green Beans in a Pressure Cooker': 'Indian', 'Andaman Style Steamed Garlic Prawns Recipe': 'Indian', 'Homemade Tamarind Water Recipe': 'Indian', 'How to Cook Root Vegetables like Potatoes using a Pressure Cooker': 'Indian', 'How To Cook Legumes in a Pressure Cooker & Sauce Pan': 'Indian', 'Classic Pavakkai Stir Fry Recipe (Bitter Gourd Fry)': 'Indian', 'How to Cook Vegetables in a Pressure Cooker': 'Indian', 'Menthe Hittu Recipe (Roasted Fenugreek Chutney Powder)': 'Indian', 'Roasted Papad Chaat Recipe': 'Indian', 'Star Cutlet Sandwich Recipe For the Kids Tiffins Using Kissan Food Cutters': 'Indian', 'How to Cook Lentils (Dals/Pulses) in a Pressure Cooker': 'Indian', 'कॉर्न शिमला मिर्च सैंडविच रेसिपी - Corn And Capsicum Sandwich Recipe': 'Indian', 'Warm Roasted Beet Salad Recipe - Roz Ka Khana With Figaro Olive Oil': 'Indian', 'Fennel Turmeric Walnut Soup With Apple And Raw Mango Recipe': 'Indian', 'Peanut Rice With Coconut Recipe': 'Indian', 'Gnocchi in Indian Curry Sauce with Spinach and Cheese Recipe': 'Indian', 'Brown Rice In Pressure Cooker Method': 'Indian', 'Chai Ka Masala Recipe - Homemade Spice Powder for Tea': 'Indian',\n",
    "    'Savory Oatmeal Bowl with Sautéed Spinach and Corn Recipe': 'Healthy', 'How To Make Oat Flour': 'Healthy', 'How To Make Homemade Almond Flour Recipe': 'Healthy', 'How to Make Quinoa Flour Recipe': 'Healthy', 'Healthy Rose Cookies Recipe With Persian Twist': 'Healthy', 'Savory Oatmeal Bowl with Sautéed Carrot and Green Bean Recipe': 'Healthy', 'Savory Flax Seed Multigrain Crackers Recipe': 'Healthy', 'How to make Flax Seed Egg Replacer For Eggless Cakes': 'Healthy', 'Savory Oatmeal Bowl with Cabbage and Green Peas Stir Fry Recipe': 'Healthy', 'Savory Oatmeal Bowl with Chettinad Mushroom and Green Peas Stir Fry Recipe': 'Healthy',\n",
    "    'बेसिल पेस्तो रेसिपी - Fresh Basil Pesto Recipe': 'Italian Recipes', 'Baked Roasted Vegetable Lasagna Recipe With Low Fat Cheese & Oat Sauce': 'Italian Recipes',\n",
    "    'Taiwanese Style Gua Bao Recipe - Steamed Bao Buns With Sweet And Spicy Mushroom & Tofu Recipe': 'Asian', 'Vegetarian Thukpa Recipe': 'Asian',\n",
    "    'Ambul Polos Curry - Sri Lankan Jack Fruit Curry Recipe With Pol Sambol': 'Sri Lankan',\n",
    "    'Urulaikizhangu Puli Thokku Recipe (South Indian Style Potatoes with Tamarind)': 'South Indian Recipes',\n",
    "    'Dal Ghiya with Punjabi Wadiyan Recipe - Lentils with Bottle Gourd & Sundried Lentil Dumplings': 'Punjabi',\n",
    "    \"Fattoush With Za'atar, Sumac and Pomegranate Molasses Recipe - Traditional Lebanese Salad\": 'Middle Eastern',\n",
    "    'Bavarian Mushroom Sauce Recipe': 'European',\n",
    "    'Moroccan Baked Fish Recipe': 'African',\n",
    "    'Thai Jasmine Sticky Rice Recipe': 'Thai' \n",
    "}"
   ]
  },
  {
   "cell_type": "code",
   "execution_count": 581,
   "id": "87481a73-8194-4699-b777-1bd280efcc0f",
   "metadata": {},
   "outputs": [],
   "source": [
    "cuisine_NAs = df['Cuisine'].isna() \n",
    "cuisine_NAs_mapping = df['Recipe Name'].map(recipe_cuisine_mapping)\n",
    "df.loc[cuisine_NAs, 'Cuisine'] = cuisine_NAs_mapping"
   ]
  },
  {
   "cell_type": "markdown",
   "id": "b2cd9499-9ab7-4b01-bb51-4cc9ddba4f99",
   "metadata": {},
   "source": [
    "#### Merging Multiple Cuisines into fewer Cuisines"
   ]
  },
  {
   "cell_type": "code",
   "execution_count": 582,
   "id": "3e614f34-d8e5-48fe-acbd-f2e8e3bfe5f6",
   "metadata": {},
   "outputs": [],
   "source": [
    "cuisine_mapping = {\n",
    "    # Indian\n",
    "    'Uttar Pradesh': 'Indian', 'Uttarakhand-North Kumaon': 'Indian', 'Awadhi': 'Indian', 'Lucknowi': 'Indian', 'Bihari': 'Indian', 'Jharkhand': 'Indian',\n",
    "    # South Indian Recipes\n",
    "\t'Kerala Recipes': 'South Indian Recipes', 'Tamil Nadu': 'South Indian Recipes', 'Chettinad': 'South Indian Recipes', 'Karnataka': 'South Indian Recipes', 'North Karnataka': 'South Indian Recipes', 'South Karnataka': 'South Indian Recipes', 'Coastal Karnataka': 'South Indian Recipes', 'Andhra': 'South Indian Recipes', 'Mangalorean': 'South Indian Recipes', 'Hyderabadi': 'South Indian Recipes', 'Oriya Recipes': 'South Indian Recipes', 'Udupi': 'South Indian Recipes', 'Coorg': 'South Indian Recipes', 'Kongunadu': 'South Indian Recipes',\n",
    "    # North Indian Recipes\n",
    "    'Kashmiri': 'North Indian Recipes', 'Sindhi': 'North Indian Recipes', 'Himachal': 'North Indian Recipes', 'Mughlai' : 'North Indian Recipes',\n",
    "    # Punjabi\n",
    "    'Haryana': 'Punjabi',\n",
    "    # Maharashtrian Recipes\n",
    "    'Malvani': 'Maharashtrian Recipes', 'Goan Recipes': 'Maharashtrian Recipes', 'Konkan': 'Maharashtrian Recipes',\n",
    "    # Mughlai\n",
    "    'Parsi Recipes': 'Mughlai',\n",
    "    # North East India Recipes\n",
    "    'Assamese': 'North East India Recipes', 'Nagaland': 'North East India Recipes',\n",
    "    # Chinese\n",
    "    'Indo Chinese': 'Chinese', 'Sichuan': 'Chinese', 'Hunan': 'Chinese', 'Shandong': 'Chinese',\n",
    "    # Asian\n",
    "    'Afghan': 'Asian', 'Burmese': 'Asian', 'Cantonese': 'Asian', 'Filipino': 'Asian', 'Fusion': 'Asian', 'Indonesian': 'Asian', 'Japanese': 'Asian', 'Korean': 'Asian', 'Malaysian': 'Asian', 'Singapore': 'Asian', 'Thai': 'Asian', 'Vietnamese': 'Asian',\n",
    "    # Middle Eastern\n",
    "    'Arab': 'Middle Eastern', 'Israeli': 'Middle Eastern', 'Jewish': 'Middle Eastern',\n",
    "    # American\n",
    "    'African': 'American', 'Caribbean': 'American', 'Mexican': 'American',\n",
    "    # European\n",
    "    'British': 'European', 'French': 'European', 'Greek': 'European', 'Italian Recipes': 'European', 'Swedish': 'European',\n",
    "    # South Asian\n",
    "    'Sri Lankan': 'South Asian', 'Malabar': 'South Asian', 'Pakistani': 'South Asian', 'Nepalese': 'South Asian', 'Bangladeshi': 'South Asian',\n",
    "    # Continental\n",
    "    'Mediterranean': 'Continental'\n",
    "}"
   ]
  },
  {
   "cell_type": "code",
   "execution_count": 583,
   "id": "e3047c81-897d-46d9-a6a0-5a1fdf4e53dc",
   "metadata": {},
   "outputs": [],
   "source": [
    "df['Cuisine'] = df['Cuisine'].replace(cuisine_mapping)"
   ]
  },
  {
   "cell_type": "code",
   "execution_count": 584,
   "id": "644bde6d-0496-4d56-bc18-08c8b12937ee",
   "metadata": {},
   "outputs": [],
   "source": [
    "cuisine_mapping = {\n",
    "    'South Indian Recipes': 'South Indian',\n",
    "    'North Indian Recipes': 'North Indian',\n",
    "    'Maharashtrian Recipes': 'Maharashtrian',\n",
    "    'Bengali Recipes': 'Bengali',\n",
    "    'Gujarati Recipes﻿': 'Gujarati',\n",
    "    'North East India Recipes': 'North East Indian'\n",
    "}"
   ]
  },
  {
   "cell_type": "code",
   "execution_count": 585,
   "id": "f85aec73-fcf5-4333-9388-7f2cdef12d15",
   "metadata": {},
   "outputs": [],
   "source": [
    "df['Cuisine'] = df['Cuisine'].replace(cuisine_mapping)"
   ]
  },
  {
   "cell_type": "code",
   "execution_count": 586,
   "id": "b7562017-543f-4866-808a-ccd962491964",
   "metadata": {},
   "outputs": [
    {
     "data": {
      "text/html": [
       "<div>\n",
       "<style scoped>\n",
       "    .dataframe tbody tr th:only-of-type {\n",
       "        vertical-align: middle;\n",
       "    }\n",
       "\n",
       "    .dataframe tbody tr th {\n",
       "        vertical-align: top;\n",
       "    }\n",
       "\n",
       "    .dataframe thead th {\n",
       "        text-align: right;\n",
       "    }\n",
       "</style>\n",
       "<table border=\"1\" class=\"dataframe\">\n",
       "  <thead>\n",
       "    <tr style=\"text-align: right;\">\n",
       "      <th></th>\n",
       "      <th>Counts</th>\n",
       "      <th>Normalized Counts</th>\n",
       "    </tr>\n",
       "    <tr>\n",
       "      <th>Cuisine</th>\n",
       "      <th></th>\n",
       "      <th></th>\n",
       "    </tr>\n",
       "  </thead>\n",
       "  <tbody>\n",
       "    <tr>\n",
       "      <th>South Indian</th>\n",
       "      <td>1725</td>\n",
       "      <td>21.581384</td>\n",
       "    </tr>\n",
       "    <tr>\n",
       "      <th>Indian</th>\n",
       "      <td>1446</td>\n",
       "      <td>18.090829</td>\n",
       "    </tr>\n",
       "    <tr>\n",
       "      <th>Continental</th>\n",
       "      <td>1363</td>\n",
       "      <td>17.052421</td>\n",
       "    </tr>\n",
       "    <tr>\n",
       "      <th>North Indian</th>\n",
       "      <td>1199</td>\n",
       "      <td>15.000626</td>\n",
       "    </tr>\n",
       "    <tr>\n",
       "      <th>European</th>\n",
       "      <td>408</td>\n",
       "      <td>5.104466</td>\n",
       "    </tr>\n",
       "    <tr>\n",
       "      <th>Asian</th>\n",
       "      <td>391</td>\n",
       "      <td>4.891780</td>\n",
       "    </tr>\n",
       "    <tr>\n",
       "      <th>Maharashtrian</th>\n",
       "      <td>332</td>\n",
       "      <td>4.153634</td>\n",
       "    </tr>\n",
       "    <tr>\n",
       "      <th>Bengali</th>\n",
       "      <td>195</td>\n",
       "      <td>2.439635</td>\n",
       "    </tr>\n",
       "    <tr>\n",
       "      <th>American</th>\n",
       "      <td>172</td>\n",
       "      <td>2.151883</td>\n",
       "    </tr>\n",
       "    <tr>\n",
       "      <th>Gujarati</th>\n",
       "      <td>156</td>\n",
       "      <td>1.951708</td>\n",
       "    </tr>\n",
       "    <tr>\n",
       "      <th>Chinese</th>\n",
       "      <td>135</td>\n",
       "      <td>1.688978</td>\n",
       "    </tr>\n",
       "    <tr>\n",
       "      <th>Rajasthani</th>\n",
       "      <td>133</td>\n",
       "      <td>1.663956</td>\n",
       "    </tr>\n",
       "    <tr>\n",
       "      <th>Punjabi</th>\n",
       "      <td>96</td>\n",
       "      <td>1.201051</td>\n",
       "    </tr>\n",
       "    <tr>\n",
       "      <th>Middle Eastern</th>\n",
       "      <td>70</td>\n",
       "      <td>0.875766</td>\n",
       "    </tr>\n",
       "    <tr>\n",
       "      <th>North East Indian</th>\n",
       "      <td>64</td>\n",
       "      <td>0.800701</td>\n",
       "    </tr>\n",
       "    <tr>\n",
       "      <th>South Asian</th>\n",
       "      <td>49</td>\n",
       "      <td>0.613036</td>\n",
       "    </tr>\n",
       "    <tr>\n",
       "      <th>Mughlai</th>\n",
       "      <td>49</td>\n",
       "      <td>0.613036</td>\n",
       "    </tr>\n",
       "  </tbody>\n",
       "</table>\n",
       "</div>"
      ],
      "text/plain": [
       "                   Counts  Normalized Counts\n",
       "Cuisine                                     \n",
       "South Indian         1725          21.581384\n",
       "Indian               1446          18.090829\n",
       "Continental          1363          17.052421\n",
       "North Indian         1199          15.000626\n",
       "European              408           5.104466\n",
       "Asian                 391           4.891780\n",
       "Maharashtrian         332           4.153634\n",
       "Bengali               195           2.439635\n",
       "American              172           2.151883\n",
       "Gujarati              156           1.951708\n",
       "Chinese               135           1.688978\n",
       "Rajasthani            133           1.663956\n",
       "Punjabi                96           1.201051\n",
       "Middle Eastern         70           0.875766\n",
       "North East Indian      64           0.800701\n",
       "South Asian            49           0.613036\n",
       "Mughlai                49           0.613036"
      ]
     },
     "execution_count": 586,
     "metadata": {},
     "output_type": "execute_result"
    }
   ],
   "source": [
    "value_counts = df['Cuisine'].value_counts()\n",
    "normalized_value_counts = df['Cuisine'].value_counts(normalize=True)*100\n",
    "counts_df = pd.DataFrame({'Counts': value_counts, 'Normalized Counts': normalized_value_counts})\n",
    "counts_df.head(17)"
   ]
  },
  {
   "cell_type": "markdown",
   "id": "0671f669-2cf1-449b-902f-8125c75b0de0",
   "metadata": {},
   "source": [
    "#### Filling NAs in `Ingredients` manually from Recipe Name"
   ]
  },
  {
   "cell_type": "code",
   "execution_count": 587,
   "id": "8c35c027-903c-4532-85e2-56711051a35b",
   "metadata": {},
   "outputs": [],
   "source": [
    "recipe_ingredients_mapping = {\n",
    "    'Urulaikizhangu Puli Thokku Recipe (South Indian Style Potatoes with Tamarind)': 'Potatoes - 4|Tamarind',\n",
    "    'How to make Homemade Tomato Puree Recipe (Sauce)': 'Tomatoes',\n",
    "    'How To Cook Pasta | Penne - Spaghetti - Fusilli - Farfalle': 'Pasta',\n",
    "    'Pear And Walnut Salad Recipe': 'Pear|Walnut',\n",
    "    'How To Roast A Papad': 'Papad',\n",
    "    'Thai Jasmine Sticky Rice Recipe': 'Rice',\n",
    "    'Classic Pavakkai Stir Fry Recipe (Bitter Gourd Fry)': 'Bitter Gourd'\n",
    "}"
   ]
  },
  {
   "cell_type": "code",
   "execution_count": 588,
   "id": "0646c76f-48c5-45dd-b00d-900b99ec3c53",
   "metadata": {},
   "outputs": [],
   "source": [
    "ingredients_NAs = df['Ingredients'].isna() \n",
    "ingredients_NAs_mapping = df['Recipe Name'].map(recipe_ingredients_mapping)\n",
    "df.loc[ingredients_NAs, 'Ingredients'] = ingredients_NAs_mapping"
   ]
  },
  {
   "cell_type": "markdown",
   "id": "979dedb3-0883-44a9-84fe-d86ade3e2df8",
   "metadata": {},
   "source": [
    "#### Filling NAs in `Equipments` with Hard Anodised Kadai (Wok) - Maximum counts"
   ]
  },
  {
   "cell_type": "code",
   "execution_count": 589,
   "id": "f452a58f-1abe-4311-b957-d13b385957f0",
   "metadata": {},
   "outputs": [
    {
     "data": {
      "text/plain": [
       "Equipments\n",
       "Hard Anodised Kadai (Wok)                                    0.209737\n",
       "Preethi Blue Leaf Mixer Grinder,Hard Anodised Kadai (Wok)    0.044074\n",
       "Saucepan With Handle (Tea/Sauces)                            0.042537\n",
       "Hard Anodized Pressure Cooker                                0.037796\n",
       "Hard Anodized Pressure Cooker,Hard Anodised Kadai (Wok)      0.036771\n",
       "Name: proportion, dtype: float64"
      ]
     },
     "execution_count": 589,
     "metadata": {},
     "output_type": "execute_result"
    }
   ],
   "source": [
    "df['Equipments'].value_counts(normalize = True)[:5]"
   ]
  },
  {
   "cell_type": "code",
   "execution_count": 590,
   "id": "7e5c563e-d7e9-488f-a99a-214acc10850f",
   "metadata": {},
   "outputs": [],
   "source": [
    "df['Equipments'].fillna('Hard Anodised Kadai (Wok)', inplace=True)"
   ]
  },
  {
   "cell_type": "code",
   "execution_count": 591,
   "id": "19e62946-ed55-4e07-a755-a1664569c8be",
   "metadata": {},
   "outputs": [
    {
     "data": {
      "text/plain": [
       "Page No             0\n",
       "Recipe Name         0\n",
       "Image URL           0\n",
       "Recipe URL          0\n",
       "Recipe URL Title    0\n",
       "Cuisine             0\n",
       "Course              0\n",
       "Diet                0\n",
       "Equipments          0\n",
       "Average Rating      0\n",
       "Total Ratings       0\n",
       "Best Rating         0\n",
       "Worst Rating        0\n",
       "Prep Time           0\n",
       "Cook Time           0\n",
       "Total Time          0\n",
       "Servings            0\n",
       "Ingredients         0\n",
       "dtype: int64"
      ]
     },
     "execution_count": 591,
     "metadata": {},
     "output_type": "execute_result"
    }
   ],
   "source": [
    "df.isna().sum()"
   ]
  },
  {
   "cell_type": "markdown",
   "id": "3e3cb3d9-3e10-4075-9760-89364e667548",
   "metadata": {},
   "source": [
    "#### Merging `Recipe Name` and `Recipe URL Title`"
   ]
  },
  {
   "cell_type": "code",
   "execution_count": 592,
   "id": "f5b68986-60cd-433d-8018-6b8ec55b70d2",
   "metadata": {},
   "outputs": [
    {
     "name": "stdout",
     "output_type": "stream",
     "text": [
      "('Bengali Style Chal Potol Recipe - Pointed Gourd /Parwal and Potato with Yogurt Gravy Recipe', 'Bengali Holud Mishti Pulao Recipe - Saffron Flavored Rice With Nuts')\n",
      "('Carrot & Sweet Potato Paratha Recipe', 'Carrots & Sweet Potato Stuffed Paratha Recipe')\n",
      "('Kabuli Chana Salad Recipe With A Tangy Orange Dressing', 'Chatpata Kabuli Chana Salad - Chickpea Salad Recipe')\n",
      "('मसालेवाली भिंडी रेसिपी - Masalewali Bhindi (Recipe In Hindi)', 'Bhindi Masala Gravy Recipe - Ladies Finger In Tomato Onion Gravy')\n"
     ]
    }
   ],
   "source": [
    "diff = df.loc[df['Recipe Name'] != df['Recipe URL Title'], ['Recipe Name', 'Recipe URL Title']]\n",
    "name = diff['Recipe Name'].tolist()\n",
    "title = diff['Recipe URL Title'].tolist()\n",
    "\n",
    "for i in list(zip(name, title)):\n",
    "    print(i)"
   ]
  },
  {
   "cell_type": "code",
   "execution_count": 593,
   "id": "0cc7d8cb-b592-4b87-a528-fe494d69dc6f",
   "metadata": {},
   "outputs": [],
   "source": [
    "df.drop(columns=['Recipe Name'], inplace=True)\n",
    "df.rename(columns={'Recipe URL Title': 'Recipe Name'}, inplace=True)"
   ]
  },
  {
   "cell_type": "code",
   "execution_count": 594,
   "id": "a1045d91-2f06-42de-aec7-02fe8cb7bcd1",
   "metadata": {},
   "outputs": [
    {
     "data": {
      "text/html": [
       "<div>\n",
       "<style scoped>\n",
       "    .dataframe tbody tr th:only-of-type {\n",
       "        vertical-align: middle;\n",
       "    }\n",
       "\n",
       "    .dataframe tbody tr th {\n",
       "        vertical-align: top;\n",
       "    }\n",
       "\n",
       "    .dataframe thead th {\n",
       "        text-align: right;\n",
       "    }\n",
       "</style>\n",
       "<table border=\"1\" class=\"dataframe\">\n",
       "  <thead>\n",
       "    <tr style=\"text-align: right;\">\n",
       "      <th></th>\n",
       "      <th>Page No</th>\n",
       "      <th>Image URL</th>\n",
       "      <th>Recipe URL</th>\n",
       "      <th>Recipe Name</th>\n",
       "      <th>Cuisine</th>\n",
       "      <th>Course</th>\n",
       "      <th>Diet</th>\n",
       "      <th>Equipments</th>\n",
       "      <th>Average Rating</th>\n",
       "      <th>Total Ratings</th>\n",
       "      <th>Best Rating</th>\n",
       "      <th>Worst Rating</th>\n",
       "      <th>Prep Time</th>\n",
       "      <th>Cook Time</th>\n",
       "      <th>Total Time</th>\n",
       "      <th>Servings</th>\n",
       "      <th>Ingredients</th>\n",
       "    </tr>\n",
       "  </thead>\n",
       "  <tbody>\n",
       "    <tr>\n",
       "      <th>7709</th>\n",
       "      <td>325</td>\n",
       "      <td>https://www.archanaskitchen.com/imgcache/image...</td>\n",
       "      <td>https://www.archanaskitchen.com/rich-decadent-...</td>\n",
       "      <td>Rich Decadent Chocolate Souffle Recipe</td>\n",
       "      <td>Continental</td>\n",
       "      <td>Dessert</td>\n",
       "      <td>Eggetarian</td>\n",
       "      <td>Steel Mixing Bowl,KitchenAid Stand Mixer,Conve...</td>\n",
       "      <td>4.886943</td>\n",
       "      <td>1256.0</td>\n",
       "      <td>5.0</td>\n",
       "      <td>0.0</td>\n",
       "      <td>20 M</td>\n",
       "      <td>15 M</td>\n",
       "      <td>35 M</td>\n",
       "      <td>4</td>\n",
       "      <td>Dark chocolate - 100 grams|Butter (Unsalted) -...</td>\n",
       "    </tr>\n",
       "  </tbody>\n",
       "</table>\n",
       "</div>"
      ],
      "text/plain": [
       "      Page No                                          Image URL  \\\n",
       "7709      325  https://www.archanaskitchen.com/imgcache/image...   \n",
       "\n",
       "                                             Recipe URL  \\\n",
       "7709  https://www.archanaskitchen.com/rich-decadent-...   \n",
       "\n",
       "                                 Recipe Name      Cuisine   Course  \\\n",
       "7709  Rich Decadent Chocolate Souffle Recipe  Continental  Dessert   \n",
       "\n",
       "            Diet                                         Equipments  \\\n",
       "7709  Eggetarian  Steel Mixing Bowl,KitchenAid Stand Mixer,Conve...   \n",
       "\n",
       "      Average Rating  Total Ratings  Best Rating  Worst Rating Prep Time  \\\n",
       "7709        4.886943         1256.0          5.0           0.0      20 M   \n",
       "\n",
       "     Cook Time Total Time Servings  \\\n",
       "7709      15 M       35 M        4   \n",
       "\n",
       "                                            Ingredients  \n",
       "7709  Dark chocolate - 100 grams|Butter (Unsalted) -...  "
      ]
     },
     "execution_count": 594,
     "metadata": {},
     "output_type": "execute_result"
    }
   ],
   "source": [
    "df.sample(1)"
   ]
  },
  {
   "cell_type": "markdown",
   "id": "06dc4844-7240-4766-9d3c-ad94d3e6111b",
   "metadata": {},
   "source": [
    "#### Removing M from Time columns (20 M to 20)"
   ]
  },
  {
   "cell_type": "code",
   "execution_count": 595,
   "id": "d498cd2d-69f4-4d2c-98b3-136e3f183aca",
   "metadata": {},
   "outputs": [],
   "source": [
    "df['Prep Time'] = df['Prep Time'].str.replace('M', '').str.strip()\n",
    "df['Cook Time'] = df['Cook Time'].str.replace('M', '').str.strip()\n",
    "df['Total Time'] = df['Total Time'].str.replace('M', '').str.strip()"
   ]
  },
  {
   "cell_type": "code",
   "execution_count": 596,
   "id": "9a2c7712-8399-4d1d-969f-c11569d73c80",
   "metadata": {},
   "outputs": [],
   "source": [
    "df['Prep Time'] = df['Prep Time'].astype(int)\n",
    "df['Cook Time'] = df['Cook Time'].astype(int)\n",
    "df['Total Time'] = df['Total Time'].astype(int)"
   ]
  },
  {
   "cell_type": "markdown",
   "id": "6fbe6e0e-90a3-43a0-adc5-ea3622421256",
   "metadata": {},
   "source": [
    "#### Updating Servings"
   ]
  },
  {
   "cell_type": "code",
   "execution_count": 597,
   "id": "848093da-a999-4385-a69f-28235f7bc082",
   "metadata": {},
   "outputs": [
    {
     "data": {
      "text/plain": [
       "Servings\n",
       "4    4879\n",
       "2    1024\n",
       "3     457\n",
       "6     435\n",
       "5     157\n",
       "Name: count, dtype: int64"
      ]
     },
     "execution_count": 597,
     "metadata": {},
     "output_type": "execute_result"
    }
   ],
   "source": [
    "df['Servings'].value_counts()[:5]"
   ]
  },
  {
   "cell_type": "code",
   "execution_count": 598,
   "id": "6f67ab96-2bc2-4b87-a285-29220a5b4d1a",
   "metadata": {},
   "outputs": [],
   "source": [
    "servings_mapping = {\n",
    "    '02-Mar': '2-3', '03-Apr': '3-4', '04-May': '4-5', '05-Jun': '5-6', '06-Aug': '6-7',  4: '4',     '4-5': '4',\n",
    "    '`4': '4',       '4fl': '4',      '04': '4',       '05': '5',       '2-3': '2',      '3-4': '3',  '20-25': '20',\n",
    "    '4-6': '4',      '5-6': '5',      '8-10': '8',     '6-7': '6',      '1-1/2': '1',    '1-2': '1',  '10-12': '10',\n",
    "    '1/2': '1',      '2-4': '2',      '15-20': '15',   '18-20': '18',   '20-30': '20',   '6-8': '6',  '350-400': '350',\n",
    "    '500-550': '500','8-9': '8',      '3-1/2': '3',    '3-5': '3',      '10-15': '10',   '7-8': '7',\n",
    "}"
   ]
  },
  {
   "cell_type": "code",
   "execution_count": 599,
   "id": "7554802d-07e6-4226-b2a3-61abb3f9917a",
   "metadata": {},
   "outputs": [],
   "source": [
    "df['Servings'] = df['Servings'].replace(servings_mapping)"
   ]
  },
  {
   "cell_type": "code",
   "execution_count": 600,
   "id": "096ada11-2546-47dd-8ec7-2e9777dee235",
   "metadata": {},
   "outputs": [],
   "source": [
    "servings_mapping = {\n",
    "    '2-3': '2', '3-4': '3', '4-5': '4', '5-6': '5', '6-7': '6'\n",
    "}\n",
    "df['Servings'] = df['Servings'].replace(servings_mapping)"
   ]
  },
  {
   "cell_type": "code",
   "execution_count": 601,
   "id": "0a7011ec-cd1d-4129-aaf1-162bd648a414",
   "metadata": {},
   "outputs": [],
   "source": [
    "df['Servings'] = df['Servings'].astype(int)"
   ]
  },
  {
   "cell_type": "markdown",
   "id": "34f6e515-bb29-4a4e-84fb-98dfc892e2ce",
   "metadata": {},
   "source": [
    "#### Removing redundant columns `Worst Rating` and `Best Rating`"
   ]
  },
  {
   "cell_type": "code",
   "execution_count": 602,
   "id": "06fe9e47-77f5-4beb-8e4e-c7e89218c9cd",
   "metadata": {},
   "outputs": [
    {
     "data": {
      "text/plain": [
       "array([0.])"
      ]
     },
     "execution_count": 602,
     "metadata": {},
     "output_type": "execute_result"
    }
   ],
   "source": [
    "df['Worst Rating'].unique()"
   ]
  },
  {
   "cell_type": "code",
   "execution_count": 603,
   "id": "3ec1ec06-07c4-40d2-a2da-dd9d8f04cd92",
   "metadata": {},
   "outputs": [
    {
     "data": {
      "text/plain": [
       "array([5.])"
      ]
     },
     "execution_count": 603,
     "metadata": {},
     "output_type": "execute_result"
    }
   ],
   "source": [
    "df['Best Rating'].unique()"
   ]
  },
  {
   "cell_type": "code",
   "execution_count": 604,
   "id": "10e2fe9e-f99f-4dba-938a-30456874bdb3",
   "metadata": {},
   "outputs": [],
   "source": [
    "drop_columns = ['Worst Rating', 'Best Rating']\n",
    "df.drop(drop_columns, axis=1, inplace=True)"
   ]
  },
  {
   "cell_type": "markdown",
   "id": "f0dec13f-691a-46d1-a076-4cda61226be9",
   "metadata": {},
   "source": [
    "#### Rounding `Average Rating` to 1 decimals"
   ]
  },
  {
   "cell_type": "code",
   "execution_count": 605,
   "id": "2d16e19e-25e1-4f5a-b956-5880ccecc7ba",
   "metadata": {},
   "outputs": [],
   "source": [
    "df.loc[df['Average Rating'] == 45956.918981481, 'Average Rating'] = 4.59569"
   ]
  },
  {
   "cell_type": "code",
   "execution_count": 606,
   "id": "f4a41b4c-7e07-4c4c-8423-ba822dc8c131",
   "metadata": {},
   "outputs": [],
   "source": [
    "df['Average Rating'] = df['Average Rating'].round(1)"
   ]
  },
  {
   "cell_type": "code",
   "execution_count": 607,
   "id": "8ed0786f-6acf-43dc-8e60-8c6aaeaf43e1",
   "metadata": {},
   "outputs": [
    {
     "data": {
      "text/plain": [
       "Average Rating\n",
       "4.9    5776\n",
       "5.0    1856\n",
       "4.8     303\n",
       "4.7      36\n",
       "4.6      13\n",
       "4.5       3\n",
       "4.4       2\n",
       "4.3       1\n",
       "4.0       1\n",
       "3.3       1\n",
       "4.1       1\n",
       "Name: count, dtype: int64"
      ]
     },
     "execution_count": 607,
     "metadata": {},
     "output_type": "execute_result"
    }
   ],
   "source": [
    "df['Average Rating'].value_counts()"
   ]
  },
  {
   "cell_type": "markdown",
   "id": "e15e2a5f-0439-4b46-bdf9-ab7982589c6b",
   "metadata": {},
   "source": [
    "#### Changing datatype of `Total Ratings` to int64"
   ]
  },
  {
   "cell_type": "code",
   "execution_count": 608,
   "id": "8ada6ac9-911e-48ce-bd39-de394777a9ff",
   "metadata": {},
   "outputs": [],
   "source": [
    "df['Total Ratings'] = df['Total Ratings'].astype(int)"
   ]
  },
  {
   "cell_type": "code",
   "execution_count": 609,
   "id": "c35b4b12-c2a9-4e47-ae92-ae80375967de",
   "metadata": {},
   "outputs": [
    {
     "name": "stdout",
     "output_type": "stream",
     "text": [
      "<class 'pandas.core.frame.DataFrame'>\n",
      "Index: 7993 entries, 0 to 7995\n",
      "Data columns (total 15 columns):\n",
      " #   Column          Non-Null Count  Dtype  \n",
      "---  ------          --------------  -----  \n",
      " 0   Page No         7993 non-null   int64  \n",
      " 1   Image URL       7993 non-null   object \n",
      " 2   Recipe URL      7993 non-null   object \n",
      " 3   Recipe Name     7993 non-null   object \n",
      " 4   Cuisine         7993 non-null   object \n",
      " 5   Course          7993 non-null   object \n",
      " 6   Diet            7993 non-null   object \n",
      " 7   Equipments      7993 non-null   object \n",
      " 8   Average Rating  7993 non-null   float64\n",
      " 9   Total Ratings   7993 non-null   int32  \n",
      " 10  Prep Time       7993 non-null   int32  \n",
      " 11  Cook Time       7993 non-null   int32  \n",
      " 12  Total Time      7993 non-null   int32  \n",
      " 13  Servings        7993 non-null   int32  \n",
      " 14  Ingredients     7993 non-null   object \n",
      "dtypes: float64(1), int32(5), int64(1), object(8)\n",
      "memory usage: 1.1+ MB\n"
     ]
    }
   ],
   "source": [
    "df.info()"
   ]
  },
  {
   "cell_type": "markdown",
   "id": "d263810e-6033-4b1a-b5d7-719d929f3c82",
   "metadata": {},
   "source": [
    "#### Remove Non-English characters from Recipe Name"
   ]
  },
  {
   "cell_type": "code",
   "execution_count": 610,
   "id": "c5e52266-8a1f-42a1-9f82-b31d2680083e",
   "metadata": {},
   "outputs": [],
   "source": [
    "pattern = re.compile(r'[^\\x00-\\x7F]+')\n",
    "df['Recipe Name 2'] = df['Recipe Name'].apply(lambda x: re.sub(pattern, '', x))"
   ]
  },
  {
   "cell_type": "code",
   "execution_count": 611,
   "id": "9a5ebda5-7d0c-47b8-b2a8-d98505679b02",
   "metadata": {},
   "outputs": [],
   "source": [
    "df.loc[df['Recipe Name'] != df['Recipe Name 2'], 'Recipe Name 2'] = df.loc[df['Recipe Name'] != df['Recipe Name 2'], 'Recipe Name 2'].str.replace('-', '')\n",
    "\n",
    "df['Recipe Name 2'] = df['Recipe Name 2'].str.strip()\n",
    "df['Recipe Name 2'] = df['Recipe Name 2'].str.strip(',')\n",
    "df['Recipe Name 2'] = df['Recipe Name 2'].str.strip()"
   ]
  },
  {
   "cell_type": "code",
   "execution_count": 612,
   "id": "cc59e7c4-b722-47fa-b420-5b453403b95a",
   "metadata": {},
   "outputs": [
    {
     "data": {
      "text/html": [
       "<div>\n",
       "<style scoped>\n",
       "    .dataframe tbody tr th:only-of-type {\n",
       "        vertical-align: middle;\n",
       "    }\n",
       "\n",
       "    .dataframe tbody tr th {\n",
       "        vertical-align: top;\n",
       "    }\n",
       "\n",
       "    .dataframe thead th {\n",
       "        text-align: right;\n",
       "    }\n",
       "</style>\n",
       "<table border=\"1\" class=\"dataframe\">\n",
       "  <thead>\n",
       "    <tr style=\"text-align: right;\">\n",
       "      <th></th>\n",
       "      <th>Recipe Name</th>\n",
       "      <th>Recipe Name 2</th>\n",
       "    </tr>\n",
       "  </thead>\n",
       "  <tbody>\n",
       "    <tr>\n",
       "      <th>5853</th>\n",
       "      <td>केरला स्टाइल अरबी की सब्ज़ी रेसिपी - Kerala Sty...</td>\n",
       "      <td>Kerala Style Arbi Curry</td>\n",
       "    </tr>\n",
       "    <tr>\n",
       "      <th>4602</th>\n",
       "      <td>दलिया पकोरा रेसिपी - Dalia Pakora Recipe</td>\n",
       "      <td>Dalia Pakora Recipe</td>\n",
       "    </tr>\n",
       "    <tr>\n",
       "      <th>5704</th>\n",
       "      <td>दही सुरन की कढ़ी रेसिपी - Dahi Suran Ki Kadhi R...</td>\n",
       "      <td>Dahi Suran Ki Kadhi Recipe</td>\n",
       "    </tr>\n",
       "    <tr>\n",
       "      <th>4117</th>\n",
       "      <td>पारसी मटन कटलेट रेसिपी - Parsi Mutton Cutlets ...</td>\n",
       "      <td>Parsi Mutton Cutlets Recipe</td>\n",
       "    </tr>\n",
       "    <tr>\n",
       "      <th>6284</th>\n",
       "      <td>अवधी स्टाइल सुल्तानी दाल रेसिपी - Awadhi Style...</td>\n",
       "      <td>Awadhi Style Sultani Dal (Recipe In Hindi)</td>\n",
       "    </tr>\n",
       "  </tbody>\n",
       "</table>\n",
       "</div>"
      ],
      "text/plain": [
       "                                            Recipe Name  \\\n",
       "5853  केरला स्टाइल अरबी की सब्ज़ी रेसिपी - Kerala Sty...   \n",
       "4602           दलिया पकोरा रेसिपी - Dalia Pakora Recipe   \n",
       "5704  दही सुरन की कढ़ी रेसिपी - Dahi Suran Ki Kadhi R...   \n",
       "4117  पारसी मटन कटलेट रेसिपी - Parsi Mutton Cutlets ...   \n",
       "6284  अवधी स्टाइल सुल्तानी दाल रेसिपी - Awadhi Style...   \n",
       "\n",
       "                                   Recipe Name 2  \n",
       "5853                     Kerala Style Arbi Curry  \n",
       "4602                         Dalia Pakora Recipe  \n",
       "5704                  Dahi Suran Ki Kadhi Recipe  \n",
       "4117                 Parsi Mutton Cutlets Recipe  \n",
       "6284  Awadhi Style Sultani Dal (Recipe In Hindi)  "
      ]
     },
     "execution_count": 612,
     "metadata": {},
     "output_type": "execute_result"
    }
   ],
   "source": [
    "# cln = df.loc[df['Recipe Name'] != df['Recipe Name 2'], ['Recipe Name', 'Recipe Name 2']]\n",
    "# save_path = os.path.join(os.getcwd(), '..', 'Data', 'Recipe_Name.csv')\n",
    "# cln.to_csv(save_path, index=False)\n",
    "\n",
    "df.loc[df['Recipe Name'] != df['Recipe Name 2'], ['Recipe Name', 'Recipe Name 2']].sample(5)"
   ]
  },
  {
   "cell_type": "code",
   "execution_count": 613,
   "id": "8835b111-7cc1-49c2-a0b7-15defcb04e43",
   "metadata": {},
   "outputs": [],
   "source": [
    "df.rename(columns={'Recipe Name': 'Recipe Name Original'}, inplace=True)\n",
    "df.rename(columns={'Recipe Name 2': 'Recipe Name'}, inplace=True)"
   ]
  },
  {
   "cell_type": "markdown",
   "id": "18422f50-d16b-43b0-b60c-6fe8b5184487",
   "metadata": {},
   "source": [
    "#### Fetching only Ingredients Name from Ingredients"
   ]
  },
  {
   "cell_type": "code",
   "execution_count": 614,
   "id": "adb18f17-a7c6-4a79-8700-d2887719d371",
   "metadata": {},
   "outputs": [],
   "source": [
    "def extract_ingredient_names(ingredients):\n",
    "    ingredients = ingredients.split('|')\n",
    "    ingredient_names = [ingredient.split('-')[0].strip() for ingredient in ingredients]\n",
    "    return '|'.join(ingredient_names)\n",
    "\n",
    "df['Ingredient Names'] = df['Ingredients'].apply(extract_ingredient_names)"
   ]
  },
  {
   "cell_type": "code",
   "execution_count": 615,
   "id": "0c22f891-2822-4c76-acc5-174ecc07dff6",
   "metadata": {},
   "outputs": [
    {
     "data": {
      "text/html": [
       "<div>\n",
       "<style scoped>\n",
       "    .dataframe tbody tr th:only-of-type {\n",
       "        vertical-align: middle;\n",
       "    }\n",
       "\n",
       "    .dataframe tbody tr th {\n",
       "        vertical-align: top;\n",
       "    }\n",
       "\n",
       "    .dataframe thead th {\n",
       "        text-align: right;\n",
       "    }\n",
       "</style>\n",
       "<table border=\"1\" class=\"dataframe\">\n",
       "  <thead>\n",
       "    <tr style=\"text-align: right;\">\n",
       "      <th></th>\n",
       "      <th>Ingredients</th>\n",
       "      <th>Ingredient Names</th>\n",
       "    </tr>\n",
       "  </thead>\n",
       "  <tbody>\n",
       "    <tr>\n",
       "      <th>0</th>\n",
       "      <td>Arhar dal (Split Toor Dal) - 1/2 cup|Mixed veg...</td>\n",
       "      <td>Arhar dal (Split Toor Dal)|Mixed vegetables|Tu...</td>\n",
       "    </tr>\n",
       "    <tr>\n",
       "      <th>1</th>\n",
       "      <td>Cauliflower (gobi) - 1 - cut into medium flore...</td>\n",
       "      <td>Cauliflower (gobi)|Milk|Dill leaves|Walnuts|Sa...</td>\n",
       "    </tr>\n",
       "    <tr>\n",
       "      <th>2</th>\n",
       "      <td>Fresh coconut - 2 cups - chopped or grated|Luk...</td>\n",
       "      <td>Fresh coconut|Lukewarm Water|Potatoes (Aloo)|G...</td>\n",
       "    </tr>\n",
       "    <tr>\n",
       "      <th>3</th>\n",
       "      <td>Gram flour (besan) - 1/2 cup|Spinach - 50 gram...</td>\n",
       "      <td>Gram flour (besan)|Spinach|Onion|Red Chilli po...</td>\n",
       "    </tr>\n",
       "    <tr>\n",
       "      <th>4</th>\n",
       "      <td>Whole Wheat Pizza Dough - 1 - recipe|Button mu...</td>\n",
       "      <td>Whole Wheat Pizza Dough|Button mushrooms|Chedd...</td>\n",
       "    </tr>\n",
       "    <tr>\n",
       "      <th>...</th>\n",
       "      <td>...</td>\n",
       "      <td>...</td>\n",
       "    </tr>\n",
       "    <tr>\n",
       "      <th>7991</th>\n",
       "      <td>Baguette - 1 - sliced|Onions - 2 - finely chop...</td>\n",
       "      <td>Baguette|Onions|Tomatoes|Del Monte Mint Mayo|B...</td>\n",
       "    </tr>\n",
       "    <tr>\n",
       "      <th>7992</th>\n",
       "      <td>Paneer (Homemade Cottage Cheese) - 1/4 cup - c...</td>\n",
       "      <td>Paneer (Homemade Cottage Cheese)|Del Monte Min...</td>\n",
       "    </tr>\n",
       "    <tr>\n",
       "      <th>7993</th>\n",
       "      <td>Green Bell Pepper (Capsicum) - 1/2 - julienned...</td>\n",
       "      <td>Green Bell Pepper (Capsicum)|Red Bell pepper (...</td>\n",
       "    </tr>\n",
       "    <tr>\n",
       "      <th>7994</th>\n",
       "      <td>Sweet Potatoes - 3 - large one cooked peeled a...</td>\n",
       "      <td>Sweet Potatoes|Coriander (Dhania) Leaves|Red C...</td>\n",
       "    </tr>\n",
       "    <tr>\n",
       "      <th>7995</th>\n",
       "      <td>1/2 cup All purpose flour|1 tablespoon Sooji|S...</td>\n",
       "      <td>1/2 cup All purpose flour|1 tablespoon Sooji|S...</td>\n",
       "    </tr>\n",
       "  </tbody>\n",
       "</table>\n",
       "<p>7993 rows × 2 columns</p>\n",
       "</div>"
      ],
      "text/plain": [
       "                                            Ingredients  \\\n",
       "0     Arhar dal (Split Toor Dal) - 1/2 cup|Mixed veg...   \n",
       "1     Cauliflower (gobi) - 1 - cut into medium flore...   \n",
       "2     Fresh coconut - 2 cups - chopped or grated|Luk...   \n",
       "3     Gram flour (besan) - 1/2 cup|Spinach - 50 gram...   \n",
       "4     Whole Wheat Pizza Dough - 1 - recipe|Button mu...   \n",
       "...                                                 ...   \n",
       "7991  Baguette - 1 - sliced|Onions - 2 - finely chop...   \n",
       "7992  Paneer (Homemade Cottage Cheese) - 1/4 cup - c...   \n",
       "7993  Green Bell Pepper (Capsicum) - 1/2 - julienned...   \n",
       "7994  Sweet Potatoes - 3 - large one cooked peeled a...   \n",
       "7995  1/2 cup All purpose flour|1 tablespoon Sooji|S...   \n",
       "\n",
       "                                       Ingredient Names  \n",
       "0     Arhar dal (Split Toor Dal)|Mixed vegetables|Tu...  \n",
       "1     Cauliflower (gobi)|Milk|Dill leaves|Walnuts|Sa...  \n",
       "2     Fresh coconut|Lukewarm Water|Potatoes (Aloo)|G...  \n",
       "3     Gram flour (besan)|Spinach|Onion|Red Chilli po...  \n",
       "4     Whole Wheat Pizza Dough|Button mushrooms|Chedd...  \n",
       "...                                                 ...  \n",
       "7991  Baguette|Onions|Tomatoes|Del Monte Mint Mayo|B...  \n",
       "7992  Paneer (Homemade Cottage Cheese)|Del Monte Min...  \n",
       "7993  Green Bell Pepper (Capsicum)|Red Bell pepper (...  \n",
       "7994  Sweet Potatoes|Coriander (Dhania) Leaves|Red C...  \n",
       "7995  1/2 cup All purpose flour|1 tablespoon Sooji|S...  \n",
       "\n",
       "[7993 rows x 2 columns]"
      ]
     },
     "execution_count": 615,
     "metadata": {},
     "output_type": "execute_result"
    }
   ],
   "source": [
    "# cln = df[['Ingredients','Ingredient Names']]\n",
    "# save_path = os.path.join(os.getcwd(), '..', 'Data', 'Ingredients_Name.csv')\n",
    "# cln.to_csv(save_path, index=False)\n",
    "\n",
    "df[['Ingredients','Ingredient Names']]"
   ]
  },
  {
   "cell_type": "code",
   "execution_count": 616,
   "id": "b16679a9-9712-43b5-8702-f32c42cfd834",
   "metadata": {},
   "outputs": [],
   "source": [
    "df.rename(columns={'Ingredients': 'Ingredients Original'}, inplace=True)"
   ]
  },
  {
   "cell_type": "code",
   "execution_count": 617,
   "id": "a71994a3-57cf-41eb-95b9-46a3bb9461a9",
   "metadata": {},
   "outputs": [
    {
     "data": {
      "text/html": [
       "<div>\n",
       "<style scoped>\n",
       "    .dataframe tbody tr th:only-of-type {\n",
       "        vertical-align: middle;\n",
       "    }\n",
       "\n",
       "    .dataframe tbody tr th {\n",
       "        vertical-align: top;\n",
       "    }\n",
       "\n",
       "    .dataframe thead th {\n",
       "        text-align: right;\n",
       "    }\n",
       "</style>\n",
       "<table border=\"1\" class=\"dataframe\">\n",
       "  <thead>\n",
       "    <tr style=\"text-align: right;\">\n",
       "      <th></th>\n",
       "      <th>Page No</th>\n",
       "      <th>Image URL</th>\n",
       "      <th>Recipe URL</th>\n",
       "      <th>Recipe Name Original</th>\n",
       "      <th>Cuisine</th>\n",
       "      <th>Course</th>\n",
       "      <th>Diet</th>\n",
       "      <th>Equipments</th>\n",
       "      <th>Average Rating</th>\n",
       "      <th>Total Ratings</th>\n",
       "      <th>Prep Time</th>\n",
       "      <th>Cook Time</th>\n",
       "      <th>Total Time</th>\n",
       "      <th>Servings</th>\n",
       "      <th>Ingredients Original</th>\n",
       "      <th>Recipe Name</th>\n",
       "      <th>Ingredient Names</th>\n",
       "    </tr>\n",
       "  </thead>\n",
       "  <tbody>\n",
       "    <tr>\n",
       "      <th>6729</th>\n",
       "      <td>284</td>\n",
       "      <td>https://www.archanaskitchen.com/imgcache/image...</td>\n",
       "      <td>https://www.archanaskitchen.com/dark-chocolate...</td>\n",
       "      <td>Dark Chocolate Sandesh (Shondesh) Dipped In Ch...</td>\n",
       "      <td>Bengali</td>\n",
       "      <td>Dessert</td>\n",
       "      <td>Vegetarian</td>\n",
       "      <td>Saucepan With Handle (Tea/Sauces),Hard Anodise...</td>\n",
       "      <td>4.9</td>\n",
       "      <td>695</td>\n",
       "      <td>15</td>\n",
       "      <td>35</td>\n",
       "      <td>50</td>\n",
       "      <td>10</td>\n",
       "      <td>Milk - 2 liter - full fat|Lemon juice - from o...</td>\n",
       "      <td>Dark Chocolate Sandesh (Shondesh) Dipped In Ch...</td>\n",
       "      <td>Milk|Lemon juice|Dark chocolate|Condensed Milk...</td>\n",
       "    </tr>\n",
       "    <tr>\n",
       "      <th>5147</th>\n",
       "      <td>215</td>\n",
       "      <td>https://www.archanaskitchen.com/imgcache/image...</td>\n",
       "      <td>https://www.archanaskitchen.com/andhra-style-b...</td>\n",
       "      <td>आंध्रा स्टाइल बीटरूट वेपुडु रेसिपी - Andhra St...</td>\n",
       "      <td>South Indian</td>\n",
       "      <td>Lunch</td>\n",
       "      <td>Vegetarian</td>\n",
       "      <td>Stainless Steel 2 Tier Steamer,Saucepan With H...</td>\n",
       "      <td>5.0</td>\n",
       "      <td>437</td>\n",
       "      <td>10</td>\n",
       "      <td>20</td>\n",
       "      <td>30</td>\n",
       "      <td>4</td>\n",
       "      <td>चकुंदर - 3 - (बीटरूट)|तेल - 2 बड़े चमच्च|चना दा...</td>\n",
       "      <td>Andhra Style Beetroot Vepudu Recipe</td>\n",
       "      <td>चकुंदर|तेल|चना दाल|सफ़ेद उरद दाल|जीरा|नमक|कढ़ी प...</td>\n",
       "    </tr>\n",
       "  </tbody>\n",
       "</table>\n",
       "</div>"
      ],
      "text/plain": [
       "      Page No                                          Image URL  \\\n",
       "6729      284  https://www.archanaskitchen.com/imgcache/image...   \n",
       "5147      215  https://www.archanaskitchen.com/imgcache/image...   \n",
       "\n",
       "                                             Recipe URL  \\\n",
       "6729  https://www.archanaskitchen.com/dark-chocolate...   \n",
       "5147  https://www.archanaskitchen.com/andhra-style-b...   \n",
       "\n",
       "                                   Recipe Name Original       Cuisine  \\\n",
       "6729  Dark Chocolate Sandesh (Shondesh) Dipped In Ch...       Bengali   \n",
       "5147  आंध्रा स्टाइल बीटरूट वेपुडु रेसिपी - Andhra St...  South Indian   \n",
       "\n",
       "       Course        Diet                                         Equipments  \\\n",
       "6729  Dessert  Vegetarian  Saucepan With Handle (Tea/Sauces),Hard Anodise...   \n",
       "5147    Lunch  Vegetarian  Stainless Steel 2 Tier Steamer,Saucepan With H...   \n",
       "\n",
       "      Average Rating  Total Ratings  Prep Time  Cook Time  Total Time  \\\n",
       "6729             4.9            695         15         35          50   \n",
       "5147             5.0            437         10         20          30   \n",
       "\n",
       "      Servings                               Ingredients Original  \\\n",
       "6729        10  Milk - 2 liter - full fat|Lemon juice - from o...   \n",
       "5147         4  चकुंदर - 3 - (बीटरूट)|तेल - 2 बड़े चमच्च|चना दा...   \n",
       "\n",
       "                                            Recipe Name  \\\n",
       "6729  Dark Chocolate Sandesh (Shondesh) Dipped In Ch...   \n",
       "5147                Andhra Style Beetroot Vepudu Recipe   \n",
       "\n",
       "                                       Ingredient Names  \n",
       "6729  Milk|Lemon juice|Dark chocolate|Condensed Milk...  \n",
       "5147  चकुंदर|तेल|चना दाल|सफ़ेद उरद दाल|जीरा|नमक|कढ़ी प...  "
      ]
     },
     "execution_count": 617,
     "metadata": {},
     "output_type": "execute_result"
    }
   ],
   "source": [
    "df.sample(2)"
   ]
  },
  {
   "cell_type": "markdown",
   "id": "f9638355-67d8-427b-8835-25046d5752b9",
   "metadata": {},
   "source": [
    "#### Updating DataTypes of Columns"
   ]
  },
  {
   "cell_type": "code",
   "execution_count": 555,
   "id": "ccc34e0a-61a4-4362-b397-3fa7f178f0a8",
   "metadata": {},
   "outputs": [],
   "source": [
    "# df['Page No'] = df['Page No'].astype(int)\n",
    "# df['Image URL'] = df['Image URL'].astype(str)\n",
    "# df['Recipe URL'] = df['Recipe URL'].astype(str)\n",
    "# df['Recipe Name Original'] = df['Recipe Name Original'].astype(str)\n",
    "# df['Cuisine'] = df['Cuisine'].astype(str)\n",
    "# df['Course'] = df['Course'].astype(str)\n",
    "# df['Diet'] = df['Diet'].astype(str)\n",
    "# df['Equipments'] = df['Equipments'].astype(str)\n",
    "# df['Average Rating'] = df['Average Rating'].astype(float)\n",
    "# df['Total Ratings'] = df['Total Ratings'].astype(int)\n",
    "# df['Prep Time'] = df['Prep Time'].astype(int)\n",
    "# df['Cook Time'] = df['Cook Time'].astype(int)\n",
    "# df['Total Time'] = df['Total Time'].astype(int)\n",
    "# df['Servings'] = df['Servings'].astype(int)\n",
    "# df['Ingredients Original'] = df['Ingredients Original'].astype(str)\n",
    "# df['Recipe Name'] = df['Recipe Name'].astype(str)\n",
    "# df['Ingredient Names'] = df['Ingredient Names'].astype(str)"
   ]
  },
  {
   "cell_type": "code",
   "execution_count": 618,
   "id": "90074a37-9e8d-4420-a8bd-cf8274cf94a3",
   "metadata": {},
   "outputs": [
    {
     "name": "stdout",
     "output_type": "stream",
     "text": [
      "<class 'pandas.core.frame.DataFrame'>\n",
      "Index: 7993 entries, 0 to 7995\n",
      "Data columns (total 17 columns):\n",
      " #   Column                Non-Null Count  Dtype  \n",
      "---  ------                --------------  -----  \n",
      " 0   Page No               7993 non-null   int64  \n",
      " 1   Image URL             7993 non-null   object \n",
      " 2   Recipe URL            7993 non-null   object \n",
      " 3   Recipe Name Original  7993 non-null   object \n",
      " 4   Cuisine               7993 non-null   object \n",
      " 5   Course                7993 non-null   object \n",
      " 6   Diet                  7993 non-null   object \n",
      " 7   Equipments            7993 non-null   object \n",
      " 8   Average Rating        7993 non-null   float64\n",
      " 9   Total Ratings         7993 non-null   int32  \n",
      " 10  Prep Time             7993 non-null   int32  \n",
      " 11  Cook Time             7993 non-null   int32  \n",
      " 12  Total Time            7993 non-null   int32  \n",
      " 13  Servings              7993 non-null   int32  \n",
      " 14  Ingredients Original  7993 non-null   object \n",
      " 15  Recipe Name           7993 non-null   object \n",
      " 16  Ingredient Names      7993 non-null   object \n",
      "dtypes: float64(1), int32(5), int64(1), object(10)\n",
      "memory usage: 1.2+ MB\n"
     ]
    }
   ],
   "source": [
    "df.info()"
   ]
  },
  {
   "cell_type": "markdown",
   "id": "31ec322c-9d5c-4dea-9565-932bbd0ec934",
   "metadata": {},
   "source": [
    "#### Drop Unwanted Columns"
   ]
  },
  {
   "cell_type": "code",
   "execution_count": 619,
   "id": "2520f5d7-fa8c-40ea-9b89-7057b59aa1d9",
   "metadata": {},
   "outputs": [],
   "source": [
    "drop_columns = ['Recipe Name Original', 'Ingredients Original']\n",
    "df.drop(drop_columns, axis=1, inplace=True)"
   ]
  },
  {
   "cell_type": "markdown",
   "id": "785d0104-bc44-4f65-9de6-33b87ec49a68",
   "metadata": {},
   "source": [
    "#### Arranging Columns"
   ]
  },
  {
   "cell_type": "code",
   "execution_count": 620,
   "id": "1dda41f9-0991-41cc-a040-bb4472da0883",
   "metadata": {},
   "outputs": [],
   "source": [
    "column_seq = ['Page No', 'Recipe Name', 'Cuisine', 'Course', 'Diet', 'Prep Time', 'Cook Time', \n",
    "              'Total Time', 'Servings', 'Ingredient Names', 'Equipments', 'Average Rating', \n",
    "              'Total Ratings', 'Image URL', 'Recipe URL']\n",
    "\n",
    "df = df.reindex(columns=column_seq)"
   ]
  },
  {
   "cell_type": "code",
   "execution_count": 621,
   "id": "b53ef803-edc6-40fa-b2fd-28eb13799537",
   "metadata": {},
   "outputs": [
    {
     "data": {
      "text/html": [
       "<div>\n",
       "<style scoped>\n",
       "    .dataframe tbody tr th:only-of-type {\n",
       "        vertical-align: middle;\n",
       "    }\n",
       "\n",
       "    .dataframe tbody tr th {\n",
       "        vertical-align: top;\n",
       "    }\n",
       "\n",
       "    .dataframe thead th {\n",
       "        text-align: right;\n",
       "    }\n",
       "</style>\n",
       "<table border=\"1\" class=\"dataframe\">\n",
       "  <thead>\n",
       "    <tr style=\"text-align: right;\">\n",
       "      <th></th>\n",
       "      <th>Page No</th>\n",
       "      <th>Recipe Name</th>\n",
       "      <th>Cuisine</th>\n",
       "      <th>Course</th>\n",
       "      <th>Diet</th>\n",
       "      <th>Prep Time</th>\n",
       "      <th>Cook Time</th>\n",
       "      <th>Total Time</th>\n",
       "      <th>Servings</th>\n",
       "      <th>Ingredient Names</th>\n",
       "      <th>Equipments</th>\n",
       "      <th>Average Rating</th>\n",
       "      <th>Total Ratings</th>\n",
       "      <th>Image URL</th>\n",
       "      <th>Recipe URL</th>\n",
       "    </tr>\n",
       "  </thead>\n",
       "  <tbody>\n",
       "    <tr>\n",
       "      <th>2794</th>\n",
       "      <td>117</td>\n",
       "      <td>How To Make Homemade Ragi Idli &amp; Dosa Batter R...</td>\n",
       "      <td>Indian</td>\n",
       "      <td>South Indian Breakfast</td>\n",
       "      <td>Diabetic Friendly</td>\n",
       "      <td>60</td>\n",
       "      <td>0</td>\n",
       "      <td>60</td>\n",
       "      <td>1500</td>\n",
       "      <td>Idli Rice|Ragi Seeds|White Urad Dal (Whole)|Me...</td>\n",
       "      <td>Preethi Blue Leaf Mixer Grinder</td>\n",
       "      <td>5.0</td>\n",
       "      <td>25596</td>\n",
       "      <td>https://www.archanaskitchen.com/imgcache/image...</td>\n",
       "      <td>https://www.archanaskitchen.com/homemade-ragi-...</td>\n",
       "    </tr>\n",
       "  </tbody>\n",
       "</table>\n",
       "</div>"
      ],
      "text/plain": [
       "      Page No                                        Recipe Name Cuisine  \\\n",
       "2794      117  How To Make Homemade Ragi Idli & Dosa Batter R...  Indian   \n",
       "\n",
       "                      Course               Diet  Prep Time  Cook Time  \\\n",
       "2794  South Indian Breakfast  Diabetic Friendly         60          0   \n",
       "\n",
       "      Total Time  Servings                                   Ingredient Names  \\\n",
       "2794          60      1500  Idli Rice|Ragi Seeds|White Urad Dal (Whole)|Me...   \n",
       "\n",
       "                           Equipments  Average Rating  Total Ratings  \\\n",
       "2794  Preethi Blue Leaf Mixer Grinder             5.0          25596   \n",
       "\n",
       "                                              Image URL  \\\n",
       "2794  https://www.archanaskitchen.com/imgcache/image...   \n",
       "\n",
       "                                             Recipe URL  \n",
       "2794  https://www.archanaskitchen.com/homemade-ragi-...  "
      ]
     },
     "execution_count": 621,
     "metadata": {},
     "output_type": "execute_result"
    }
   ],
   "source": [
    "df.sample(1)"
   ]
  },
  {
   "cell_type": "markdown",
   "id": "b0444620-001f-4485-b6c6-d48304066a28",
   "metadata": {},
   "source": [
    "## Remove Duplicates"
   ]
  },
  {
   "cell_type": "code",
   "execution_count": 627,
   "id": "e4d9f2b4-e100-4e41-9590-a8f1592884c6",
   "metadata": {},
   "outputs": [
    {
     "data": {
      "text/html": [
       "<div>\n",
       "<style scoped>\n",
       "    .dataframe tbody tr th:only-of-type {\n",
       "        vertical-align: middle;\n",
       "    }\n",
       "\n",
       "    .dataframe tbody tr th {\n",
       "        vertical-align: top;\n",
       "    }\n",
       "\n",
       "    .dataframe thead th {\n",
       "        text-align: right;\n",
       "    }\n",
       "</style>\n",
       "<table border=\"1\" class=\"dataframe\">\n",
       "  <thead>\n",
       "    <tr style=\"text-align: right;\">\n",
       "      <th></th>\n",
       "      <th>Page No</th>\n",
       "      <th>Recipe Name</th>\n",
       "      <th>Cuisine</th>\n",
       "      <th>Course</th>\n",
       "      <th>Diet</th>\n",
       "      <th>Prep Time</th>\n",
       "      <th>Cook Time</th>\n",
       "      <th>Total Time</th>\n",
       "      <th>Servings</th>\n",
       "      <th>Ingredient Names</th>\n",
       "      <th>Equipments</th>\n",
       "      <th>Average Rating</th>\n",
       "      <th>Total Ratings</th>\n",
       "      <th>Image URL</th>\n",
       "      <th>Recipe URL</th>\n",
       "    </tr>\n",
       "  </thead>\n",
       "  <tbody>\n",
       "    <tr>\n",
       "      <th>7679</th>\n",
       "      <td>323</td>\n",
       "      <td>Dhaba Style Country Chicken Recipe</td>\n",
       "      <td>North Indian</td>\n",
       "      <td>Lunch</td>\n",
       "      <td>High Protein Non Vegetarian</td>\n",
       "      <td>10</td>\n",
       "      <td>60</td>\n",
       "      <td>70</td>\n",
       "      <td>6</td>\n",
       "      <td>Chicken|Onion|Ginger|Garlic|Fresh Red Chilli|M...</td>\n",
       "      <td>Hard Anodised Kadai (Wok)</td>\n",
       "      <td>4.9</td>\n",
       "      <td>3408</td>\n",
       "      <td>https://www.archanaskitchen.com/imgcache/image...</td>\n",
       "      <td>https://www.archanaskitchen.com/dhaba-style-co...</td>\n",
       "    </tr>\n",
       "    <tr>\n",
       "      <th>7680</th>\n",
       "      <td>324</td>\n",
       "      <td>Dhaba Style Country Chicken Recipe</td>\n",
       "      <td>North Indian</td>\n",
       "      <td>Lunch</td>\n",
       "      <td>High Protein Non Vegetarian</td>\n",
       "      <td>10</td>\n",
       "      <td>60</td>\n",
       "      <td>70</td>\n",
       "      <td>6</td>\n",
       "      <td>Chicken|Onion|Ginger|Garlic|Fresh Red Chilli|M...</td>\n",
       "      <td>Hard Anodised Kadai (Wok)</td>\n",
       "      <td>4.9</td>\n",
       "      <td>3408</td>\n",
       "      <td>https://www.archanaskitchen.com/imgcache/image...</td>\n",
       "      <td>https://www.archanaskitchen.com/dhaba-style-co...</td>\n",
       "    </tr>\n",
       "  </tbody>\n",
       "</table>\n",
       "</div>"
      ],
      "text/plain": [
       "      Page No                         Recipe Name       Cuisine Course  \\\n",
       "7679      323  Dhaba Style Country Chicken Recipe  North Indian  Lunch   \n",
       "7680      324  Dhaba Style Country Chicken Recipe  North Indian  Lunch   \n",
       "\n",
       "                             Diet  Prep Time  Cook Time  Total Time  Servings  \\\n",
       "7679  High Protein Non Vegetarian         10         60          70         6   \n",
       "7680  High Protein Non Vegetarian         10         60          70         6   \n",
       "\n",
       "                                       Ingredient Names  \\\n",
       "7679  Chicken|Onion|Ginger|Garlic|Fresh Red Chilli|M...   \n",
       "7680  Chicken|Onion|Ginger|Garlic|Fresh Red Chilli|M...   \n",
       "\n",
       "                     Equipments  Average Rating  Total Ratings  \\\n",
       "7679  Hard Anodised Kadai (Wok)             4.9           3408   \n",
       "7680  Hard Anodised Kadai (Wok)             4.9           3408   \n",
       "\n",
       "                                              Image URL  \\\n",
       "7679  https://www.archanaskitchen.com/imgcache/image...   \n",
       "7680  https://www.archanaskitchen.com/imgcache/image...   \n",
       "\n",
       "                                             Recipe URL  \n",
       "7679  https://www.archanaskitchen.com/dhaba-style-co...  \n",
       "7680  https://www.archanaskitchen.com/dhaba-style-co...  "
      ]
     },
     "execution_count": 627,
     "metadata": {},
     "output_type": "execute_result"
    }
   ],
   "source": [
    "dup_columns = list(set(df.columns.tolist()) - {'Page No', 'Image URL'})\n",
    "df[df.duplicated(subset=dup_columns,keep=False)][-2:]"
   ]
  },
  {
   "cell_type": "code",
   "execution_count": 628,
   "id": "e2ee331d-646c-4acc-82c7-c5304d500453",
   "metadata": {},
   "outputs": [],
   "source": [
    "df.drop_duplicates(subset=dup_columns, keep='first', inplace=True)"
   ]
  },
  {
   "cell_type": "code",
   "execution_count": null,
   "id": "c4ad3b3f-9e63-4179-808a-2e885a255e51",
   "metadata": {},
   "outputs": [],
   "source": [
    "df[df.duplicated(subset=['Recipe Name'])]"
   ]
  },
  {
   "cell_type": "code",
   "execution_count": null,
   "id": "76eddcff-4b06-4db3-98a4-4a71369a1c8d",
   "metadata": {},
   "outputs": [],
   "source": [
    "df.drop_duplicates(subset=['Recipe Name'], keep='first', inplace=True)"
   ]
  },
  {
   "cell_type": "markdown",
   "id": "cf6bc54b-5ddd-4758-a50f-1f64533ee9da",
   "metadata": {},
   "source": [
    "### Save File"
   ]
  },
  {
   "cell_type": "code",
   "execution_count": 629,
   "id": "01c98962-5e3e-40dc-b157-f501bbd6dd3a",
   "metadata": {},
   "outputs": [],
   "source": [
    "save_path = os.path.join(os.getcwd(), '..', 'Data', 'Recipes_Clean.csv')\n",
    "df.to_csv(save_path, index=False)"
   ]
  }
 ],
 "metadata": {
  "kernelspec": {
   "display_name": "Python 3 (ipykernel)",
   "language": "python",
   "name": "python3"
  },
  "language_info": {
   "codemirror_mode": {
    "name": "ipython",
    "version": 3
   },
   "file_extension": ".py",
   "mimetype": "text/x-python",
   "name": "python",
   "nbconvert_exporter": "python",
   "pygments_lexer": "ipython3",
   "version": "3.11.7"
  }
 },
 "nbformat": 4,
 "nbformat_minor": 5
}
