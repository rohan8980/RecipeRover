{
 "cells": [
  {
   "cell_type": "code",
   "execution_count": 101,
   "id": "8de08e0a-0d58-4964-abb8-a868498b9963",
   "metadata": {},
   "outputs": [],
   "source": [
    "import pandas as pd\n",
    "import os\n",
    "from sklearn.feature_extraction.text import TfidfVectorizer\n",
    "from sklearn.metrics.pairwise import cosine_similarity\n",
    "import pickle"
   ]
  },
  {
   "cell_type": "code",
   "execution_count": 102,
   "id": "90e26566-d6f4-4c84-94f8-0b759cf8f620",
   "metadata": {},
   "outputs": [],
   "source": [
    "file_path = os.path.join(os.getcwd(), '..', 'Data', 'Recipes_Clean.csv')\n",
    "df = pd.read_csv(file_path)"
   ]
  },
  {
   "cell_type": "code",
   "execution_count": 111,
   "id": "fcf6b3ea-5d27-4a4c-92ff-44f493317f8f",
   "metadata": {},
   "outputs": [
    {
     "data": {
      "text/html": [
       "<div>\n",
       "<style scoped>\n",
       "    .dataframe tbody tr th:only-of-type {\n",
       "        vertical-align: middle;\n",
       "    }\n",
       "\n",
       "    .dataframe tbody tr th {\n",
       "        vertical-align: top;\n",
       "    }\n",
       "\n",
       "    .dataframe thead th {\n",
       "        text-align: right;\n",
       "    }\n",
       "</style>\n",
       "<table border=\"1\" class=\"dataframe\">\n",
       "  <thead>\n",
       "    <tr style=\"text-align: right;\">\n",
       "      <th></th>\n",
       "      <th>Page No</th>\n",
       "      <th>Recipe Name</th>\n",
       "      <th>Cuisine</th>\n",
       "      <th>Course</th>\n",
       "      <th>Diet</th>\n",
       "      <th>Prep Time</th>\n",
       "      <th>Cook Time</th>\n",
       "      <th>Total Time</th>\n",
       "      <th>Servings</th>\n",
       "      <th>Ingredient Names</th>\n",
       "      <th>Equipments</th>\n",
       "      <th>Average Rating</th>\n",
       "      <th>Total Ratings</th>\n",
       "      <th>Image URL</th>\n",
       "      <th>Recipe URL</th>\n",
       "      <th>combined_features</th>\n",
       "    </tr>\n",
       "  </thead>\n",
       "  <tbody>\n",
       "    <tr>\n",
       "      <th>3988</th>\n",
       "      <td>172</td>\n",
       "      <td>Punjabi Sabut Moong Ki Dal Recipe</td>\n",
       "      <td>North Indian</td>\n",
       "      <td>Lunch</td>\n",
       "      <td>High Protein Vegetarian</td>\n",
       "      <td>10</td>\n",
       "      <td>30</td>\n",
       "      <td>40</td>\n",
       "      <td>2</td>\n",
       "      <td>हरी मूंग दाल|प्याज|टमाटर|अदरक|लहसुन|हरी मिर्च|...</td>\n",
       "      <td>Hard Anodized Pressure Cooker,Tadka Pan (Seaso...</td>\n",
       "      <td>5.0</td>\n",
       "      <td>840</td>\n",
       "      <td>https://www.archanaskitchen.com/imgcache/image...</td>\n",
       "      <td>https://www.archanaskitchen.com/punjabi-sabut-...</td>\n",
       "      <td>Punjabi Sabut Moong Ki Dal Recipe North Indian...</td>\n",
       "    </tr>\n",
       "  </tbody>\n",
       "</table>\n",
       "</div>"
      ],
      "text/plain": [
       "      Page No                        Recipe Name       Cuisine Course  \\\n",
       "3988      172  Punjabi Sabut Moong Ki Dal Recipe  North Indian  Lunch   \n",
       "\n",
       "                         Diet  Prep Time  Cook Time  Total Time  Servings  \\\n",
       "3988  High Protein Vegetarian         10         30          40         2   \n",
       "\n",
       "                                       Ingredient Names  \\\n",
       "3988  हरी मूंग दाल|प्याज|टमाटर|अदरक|लहसुन|हरी मिर्च|...   \n",
       "\n",
       "                                             Equipments  Average Rating  \\\n",
       "3988  Hard Anodized Pressure Cooker,Tadka Pan (Seaso...             5.0   \n",
       "\n",
       "      Total Ratings                                          Image URL  \\\n",
       "3988            840  https://www.archanaskitchen.com/imgcache/image...   \n",
       "\n",
       "                                             Recipe URL  \\\n",
       "3988  https://www.archanaskitchen.com/punjabi-sabut-...   \n",
       "\n",
       "                                      combined_features  \n",
       "3988  Punjabi Sabut Moong Ki Dal Recipe North Indian...  "
      ]
     },
     "execution_count": 111,
     "metadata": {},
     "output_type": "execute_result"
    }
   ],
   "source": [
    "df.sample(1)"
   ]
  },
  {
   "cell_type": "markdown",
   "id": "2941c98b-08ff-4706-b551-26754575d03b",
   "metadata": {},
   "source": [
    "### Selecting features for creating tfidf vectors and calculating cosine similarity"
   ]
  },
  {
   "cell_type": "code",
   "execution_count": 104,
   "id": "bcd9c8f5-9839-40c3-8434-861639335f89",
   "metadata": {},
   "outputs": [],
   "source": [
    "features = ['Recipe Name', 'Cuisine', 'Course', 'Diet', 'Prep Time', 'Cook Time', 'Total Time', 'Servings', 'Ingredient Names', 'Equipments']\n",
    "df['combined_features'] = df[features].apply(lambda row: ' '.join(row.values.astype(str)), axis=1)"
   ]
  },
  {
   "cell_type": "code",
   "execution_count": 105,
   "id": "01a07749-d3b1-4dc8-a0f0-a29757ba7398",
   "metadata": {},
   "outputs": [],
   "source": [
    "tfidf_vectorizer = TfidfVectorizer()\n",
    "tfidf_matrix = tfidf_vectorizer.fit_transform(df['combined_features'])\n",
    "cosine_sim = cosine_similarity(tfidf_matrix, tfidf_matrix)"
   ]
  },
  {
   "cell_type": "markdown",
   "id": "e6e19659-4506-4d66-a392-e279d9c9ff0e",
   "metadata": {},
   "source": [
    "### Fetching recommendations based on cosine simlarity"
   ]
  },
  {
   "cell_type": "code",
   "execution_count": 106,
   "id": "3c8b356d-ccca-4d04-9716-4eaa5d87da60",
   "metadata": {},
   "outputs": [],
   "source": [
    "def get_recommendations(recipe_name, n_recommendations=10, cosine_sim=cosine_sim):\n",
    "    idx = df[df['Recipe Name'] == recipe_name].index[0]\n",
    "    sim_scores = list(enumerate(cosine_sim[idx]))\n",
    "    sim_scores = sorted(sim_scores, key=lambda x: x[1], reverse=True)\n",
    "    sim_scores = sim_scores[1:n_recommendations+1] \n",
    "    recipe_indices = [i[0] for i in sim_scores]\n",
    "    return df['Recipe Name'].iloc[recipe_indices]"
   ]
  },
  {
   "cell_type": "code",
   "execution_count": 107,
   "id": "83fb4ad3-a646-41e3-b1fe-afedc1e5487c",
   "metadata": {},
   "outputs": [
    {
     "name": "stdout",
     "output_type": "stream",
     "text": [
      "1753                      Roasted Cauliflower Soup Recipe\n",
      "1989            Spiced Cauliflower And Almond Soup Recipe\n",
      "5038       Penne Pasta Recipe In Creamy Cauliflower Sauce\n",
      "4559    Aloo Gobi Sabzi Recipe - Spicy Potato Cauliflo...\n",
      "745     Karnataka Style Bassaru Recipe - Dill flavored...\n",
      "Name: Recipe Name, dtype: object\n"
     ]
    }
   ],
   "source": [
    "recipe_name = 'Roasted Cauliflower Dill Soup Recipe'\n",
    "recommended_recipes = get_recommendations(recipe_name, 5)\n",
    "print(recommended_recipes)"
   ]
  },
  {
   "cell_type": "markdown",
   "id": "f56e686e-27df-45ae-9f9f-5831b8a29bfa",
   "metadata": {},
   "source": [
    "### Saving Model"
   ]
  },
  {
   "cell_type": "code",
   "execution_count": 108,
   "id": "c7c1a2e9-fc1a-4d03-aafe-ef2499c5e2bc",
   "metadata": {},
   "outputs": [],
   "source": [
    "save_df = df[['Recipe Name', 'Image URL', 'Recipe URL']]\n",
    "model_save_path = os.path.join(os.getcwd(), '..', 'Model', 'model_pickle.pkl')\n",
    "with open(model_save_path, \"wb\") as f:\n",
    "    pickle.dump((save_df, tfidf_matrix), f)"
   ]
  }
 ],
 "metadata": {
  "kernelspec": {
   "display_name": "Python 3 (ipykernel)",
   "language": "python",
   "name": "python3"
  },
  "language_info": {
   "codemirror_mode": {
    "name": "ipython",
    "version": 3
   },
   "file_extension": ".py",
   "mimetype": "text/x-python",
   "name": "python",
   "nbconvert_exporter": "python",
   "pygments_lexer": "ipython3",
   "version": "3.11.7"
  }
 },
 "nbformat": 4,
 "nbformat_minor": 5
}
